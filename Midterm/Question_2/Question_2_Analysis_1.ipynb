{
 "cells": [
  {
   "cell_type": "markdown",
   "metadata": {},
   "source": [
    "# Question_2_Analysis_1\n",
    "* Create folder structure on the basis of section name\n",
    "* Find out the most published topic in the Article for the year 2014"
   ]
  },
  {
   "cell_type": "code",
   "execution_count": 22,
   "metadata": {
    "collapsed": true
   },
   "outputs": [],
   "source": [
    "import glob   # imported glob\n",
    "import os   # imported os\n",
    "import csv  # imported csv\n",
    "import json\n",
    "files = glob.glob(r'Raw_data\\Article_Data_2014\\*')  # storing readeable files in a variable"
   ]
  },
  {
   "cell_type": "code",
   "execution_count": 29,
   "metadata": {
    "collapsed": false
   },
   "outputs": [],
   "source": [
    "abc = []\n",
    "for p in files:     #for loop to read every file of the corpus\n",
    "    with open(p, 'r') as f:   #open files\n",
    "        json_file = json.load(f)\n",
    "        json_keys = json_file.keys()\n",
    "        for x in json_keys: \n",
    "            if x == 'response':\n",
    "                response_file = json_file['response']\n",
    "                response_keys = response_file.keys()\n",
    "                for y in response_keys:\n",
    "                    if y == 'docs':\n",
    "                        docs_file = json_file['response']['docs']\n",
    "                        i = 0\n",
    "                        for z in docs_file:\n",
    "                            section_name = json_file['response']['docs'][i]['section_name']\n",
    "                            pub_date = json_file['response']['docs'][i]['pub_date'][0:10]\n",
    "                            id = json_file['response']['docs'][i]['_id']\n",
    "                            if section_name is not None:\n",
    "                                a = section_name.replace('  ','')\n",
    "                                g = a.replace(' ','')\n",
    "                                b = g.replace(':','')\n",
    "                                d = b.replace('/','')\n",
    "                                if d != 'false':\n",
    "                                    abc.append(section_name)\n",
    "                                    sectionName = r\"Question_2_files\\\\\" + d\n",
    "                                    presentSection=os.path.isdir(sectionName)\n",
    "                                    os.makedirs(sectionName, exist_ok=True)    #if folder doesn't exist then create one\n",
    "                                    with open(sectionName+\"\\\\\" + pub_date + id + '.json', 'w') as outfile:\n",
    "                                        json.dump(json_file['response']['docs'][i], outfile)                       \n",
    "                                    i += 1"
   ]
  },
  {
   "cell_type": "code",
   "execution_count": 25,
   "metadata": {
    "collapsed": false
   },
   "outputs": [],
   "source": [
    "#Following counter to check the number of articles published for respective section name in the year 2014\n",
    "from collections import Counter\n",
    "counts = Counter(abc)"
   ]
  },
  {
   "cell_type": "code",
   "execution_count": 26,
   "metadata": {
    "collapsed": false
   },
   "outputs": [],
   "source": [
    "dict_count= dict(counts)"
   ]
  },
  {
   "cell_type": "code",
   "execution_count": 27,
   "metadata": {
    "collapsed": false
   },
   "outputs": [],
   "source": [
    "# Creating a list and appending all the words\n",
    "dict_list = []\n",
    "temp = []\n",
    "for key, value in dict_count.items():\n",
    "    temp = [key,value]\n",
    "    dict_list.append(temp)"
   ]
  },
  {
   "cell_type": "code",
   "execution_count": 28,
   "metadata": {
    "collapsed": false
   },
   "outputs": [
    {
     "name": "stdout",
     "output_type": "stream",
     "text": [
      "U.S. 819\n",
      "Sports 716\n",
      "World 516\n",
      "Business Day 405\n",
      "Paid Death Notices 213\n",
      "Multimedia/Photos 161\n",
      "Arts 156\n",
      "Technology 83\n",
      "Movies 51\n",
      "Opinion 47\n",
      "N.Y. / Region 29\n",
      "Fashion & Style 18\n",
      "Health 18\n",
      "Blogs 15\n",
      "Food 14\n",
      "Crosswords/Games 13\n",
      "Science 13\n",
      "Multimedia 8\n",
      "T:Style 8\n",
      "Travel 7\n",
      "T Magazine 4\n",
      "Corrections 3\n",
      "Style 3\n",
      "Education 2\n",
      "Magazine 2\n",
      "Obituaries 1\n",
      "Automobiles 1\n",
      "Real Estate 1\n",
      "Your Money 1\n"
     ]
    }
   ],
   "source": [
    "#Section_Name in descending order of popularity\n",
    "for k,v in sorted(dict_count.items(), key =lambda x:x[1:] , reverse = True):\n",
    "    x=  print(k, v)  "
   ]
  }
 ],
 "metadata": {
  "anaconda-cloud": {},
  "kernelspec": {
   "display_name": "Python [conda root]",
   "language": "python",
   "name": "conda-root-py"
  },
  "language_info": {
   "codemirror_mode": {
    "name": "ipython",
    "version": 3
   },
   "file_extension": ".py",
   "mimetype": "text/x-python",
   "name": "python",
   "nbconvert_exporter": "python",
   "pygments_lexer": "ipython3",
   "version": "3.5.2"
  }
 },
 "nbformat": 4,
 "nbformat_minor": 1
}
