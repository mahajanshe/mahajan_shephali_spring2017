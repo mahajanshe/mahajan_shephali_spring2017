{
 "cells": [
  {
   "cell_type": "markdown",
   "metadata": {
    "collapsed": true
   },
   "source": [
    "# Question_2_Analysis_3\n",
    "* Creating folder structure to save the data as per the section name\n",
    "* Finding the most popular topics published in the archive for the year 2016"
   ]
  },
  {
   "cell_type": "code",
   "execution_count": 10,
   "metadata": {
    "collapsed": true
   },
   "outputs": [],
   "source": [
    "import glob   # imported glob\n",
    "import os   # imported os\n",
    "import csv  # imported csv\n",
    "import json\n",
    "files = glob.glob(r'C:\\Users\\Shephali Mahajan\\Desktop\\Python_Midterm\\Archive_2016\\*.json') "
   ]
  },
  {
   "cell_type": "code",
   "execution_count": 11,
   "metadata": {
    "collapsed": true
   },
   "outputs": [],
   "source": [
    "abc = []\n",
    "for p in files:     #for loop to read every file of the corpus\n",
    "    with open(p, 'r') as f:   #open files\n",
    "        json_file = json.load(f)\n",
    "        json_keys = json_file.keys()\n",
    "        for x in json_keys: \n",
    "            if x == 'response':\n",
    "                response_file = json_file['response']\n",
    "                response_keys = response_file.keys()\n",
    "                for y in response_keys:\n",
    "                    if y == 'docs':\n",
    "                        docs_file = json_file['response']['docs']\n",
    "                        i = 0\n",
    "                        for z in docs_file:\n",
    "                            section_name = json_file['response']['docs'][i]['section_name']\n",
    "                            pub_date = json_file['response']['docs'][i]['pub_date'][0:10]\n",
    "                            id = json_file['response']['docs'][i]['_id']\n",
    "                            if section_name is not None:\n",
    "                                a = section_name.replace('  ','')\n",
    "                                g = a.replace(' ','')\n",
    "                                b = g.replace(':','')\n",
    "                                d = b.replace('/','')\n",
    "                                if d != 'false':\n",
    "                                    abc.append(section_name)\n",
    "                                    sectionName = r\"Question_2_Archive_files\\\\\" + d\n",
    "                                    presentSection=os.path.isdir(sectionName)\n",
    "                                    os.makedirs(sectionName, exist_ok=True)    #if folder doesn't exist then create one\n",
    "                                    with open(sectionName+\"\\\\\" + pub_date + id + '.json', 'w') as outfile:\n",
    "                                        json.dump(json_file['response']['docs'][i], outfile)                       \n",
    "                                    i += 1"
   ]
  },
  {
   "cell_type": "code",
   "execution_count": 12,
   "metadata": {
    "collapsed": false
   },
   "outputs": [],
   "source": [
    "from collections import Counter\n",
    "counts = Counter(abc)"
   ]
  },
  {
   "cell_type": "code",
   "execution_count": 13,
   "metadata": {
    "collapsed": true
   },
   "outputs": [],
   "source": [
    "dict_count= dict(counts)"
   ]
  },
  {
   "cell_type": "code",
   "execution_count": 14,
   "metadata": {
    "collapsed": true
   },
   "outputs": [],
   "source": [
    "dict_list = []\n",
    "temp = []\n",
    "for key, value in dict_count.items():\n",
    "    temp = [key,value]\n",
    "    dict_list.append(temp)"
   ]
  },
  {
   "cell_type": "code",
   "execution_count": 15,
   "metadata": {
    "collapsed": false
   },
   "outputs": [
    {
     "name": "stdout",
     "output_type": "stream",
     "text": [
      "U.S. 7698\n",
      "World 6874\n",
      "Opinion 6793\n",
      "Sports 6154\n",
      "Arts 5706\n",
      "Business Day 5011\n",
      "Paid Death Notices 4318\n",
      "N.Y. / Region 4183\n",
      "Fashion & Style 3697\n",
      "Books 1860\n",
      "T Magazine 1671\n",
      "Movies 1630\n",
      "Technology 1328\n",
      "Real Estate 1217\n",
      "Food 1207\n",
      "Theater 1020\n",
      "Health 971\n",
      "Science 907\n",
      "Magazine 849\n",
      "Travel 827\n",
      "The Upshot 726\n",
      "Education 681\n",
      "NYT Now 652\n",
      "Blogs 529\n",
      "Crosswords & Games 505\n",
      "Times Insider 434\n",
      "Corrections 398\n",
      "Your Money 342\n",
      "Multimedia/Photos 336\n",
      "The Learning Network 334\n",
      "Briefing 302\n",
      "Today’s Paper 283\n",
      "Well 280\n",
      "Style 201\n",
      "Universal 165\n",
      "Automobiles 110\n",
      "Job Market 101\n",
      "Obituaries 95\n",
      "Podcasts 60\n",
      "Watching 58\n",
      "Public Editor 43\n",
      "Sunday Review 28\n",
      "Giving 11\n",
      "Times Topics 10\n",
      "Books; Arts 7\n",
      "Admin 3\n",
      "membercenter 3\n",
      "International Home 3\n",
      "Great Homes & Destinations 2\n",
      "Afternoon Update 2\n",
      "Multimedia 1\n"
     ]
    }
   ],
   "source": [
    "for k,v in sorted(dict_count.items(), key =lambda x:x[1:] , reverse = True):\n",
    "    x=  print(k, v)"
   ]
  }
 ],
 "metadata": {
  "anaconda-cloud": {},
  "kernelspec": {
   "display_name": "Python [conda root]",
   "language": "python",
   "name": "conda-root-py"
  },
  "language_info": {
   "codemirror_mode": {
    "name": "ipython",
    "version": 3
   },
   "file_extension": ".py",
   "mimetype": "text/x-python",
   "name": "python",
   "nbconvert_exporter": "python",
   "pygments_lexer": "ipython3",
   "version": "3.5.2"
  }
 },
 "nbformat": 4,
 "nbformat_minor": 1
}
