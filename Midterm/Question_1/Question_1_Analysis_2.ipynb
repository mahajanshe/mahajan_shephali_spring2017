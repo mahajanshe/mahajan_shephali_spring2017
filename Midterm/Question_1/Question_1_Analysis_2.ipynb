{
 "cells": [
  {
   "cell_type": "markdown",
   "metadata": {},
   "source": [
    "# Question_1_Analysis_2\n",
    "\n",
    "#Find out the peak time for most of the mails sent by chairman Ken Lay"
   ]
  },
  {
   "cell_type": "code",
   "execution_count": 1,
   "metadata": {
    "collapsed": true
   },
   "outputs": [],
   "source": [
    "#importing libraries\n",
    "import os\n",
    "import glob\n",
    "import re\n",
    "import email\n",
    "import operator\n",
    "import csv\n",
    "import matplotlib.pyplot as plt\n",
    "from validate_email import validate_email\n",
    "from nltk.corpus import stopwords\n",
    "from email.parser import Parser\n",
    "\n",
    "#Getting path of the files to be processed\n",
    "path = glob.glob(r'C:\\Users\\Shephali Mahajan\\Desktop\\Python_Midterm\\Enron_Data\\Enron_Dataset\\maildir\\lay-k*')"
   ]
  },
  {
   "cell_type": "code",
   "execution_count": 2,
   "metadata": {
    "collapsed": false
   },
   "outputs": [],
   "source": [
    "#calculating the frequency of mail sent times\n",
    "for folder_list in path:               #fetching all folders in the path\n",
    "    all_folders = glob.glob(os.path.join(folder_list, '*sent*'))\n",
    "    for all_sent_folders in all_folders:  #fetching only sent folders\n",
    "        all_mails = glob.glob(os.path.join(all_sent_folders, '*'))\n",
    "        email_timestamp = []\n",
    "        t = []\n",
    "        time = []\n",
    "        time_dict = {}\n",
    "        \n",
    "#     the below for loop will traverse through each email and get the time when the mail was sent\n",
    "        for x in all_mails:\n",
    "            if x[-1].isdigit():\n",
    "                with open(x) as data_file:\n",
    "                    raw_file = data_file.read()\n",
    "                    email = Parser().parsestr(raw_file)\n",
    "                    email_timestamp.append(email.get('date'))\n",
    "                    for email_time in email_timestamp:\n",
    "                        if email_time:\n",
    "                            email_time=email_time.split(\" \")\n",
    "                            for time_1 in email_time[4:5]:\n",
    "                                time_1=time_1.split(\":\")\n",
    "                                t.append(time_1)\n",
    "                                for t1 in time_1[0:1]:\n",
    "                                    #print(time_1)\n",
    "                                    time.append(t1)\n",
    "\n",
    "                                    for digit in time:\n",
    "                                        if digit in time_dict:\n",
    "                                            time_dict[digit] +=1\n",
    "                                        else:\n",
    "                                            time_dict[digit]=1\n",
    "                                    #print (time_dic)\n",
    "\n"
   ]
  },
  {
   "cell_type": "code",
   "execution_count": 3,
   "metadata": {
    "collapsed": false
   },
   "outputs": [
    {
     "name": "stdout",
     "output_type": "stream",
     "text": [
      "The time and frequency of the mails sent by chairman Ken Lay are as follows:\n",
      " [('01', 71682744), ('09', 69644978), ('06', 52561605), ('03', 50704774), ('10', 45281132), ('05', 45118175), ('08', 42355501), ('00', 34065561), ('07', 33858930), ('23', 32602256), ('04', 30330902), ('02', 27934143), ('12', 21240017), ('11', 19639287), ('20', 7039076), ('13', 402288), ('15', 53711), ('22', 14256)]\n"
     ]
    }
   ],
   "source": [
    "#sorting the list\n",
    "sorted_x = sorted(time_dict.items(), key=operator.itemgetter(1), reverse = True)\n",
    "\n",
    "\n",
    "#Final Output--\n",
    "print('The time and frequency of the mails sent by chairman Ken Lay are as follows:\\n', sorted_x)"
   ]
  },
  {
   "cell_type": "code",
   "execution_count": 4,
   "metadata": {
    "collapsed": false
   },
   "outputs": [],
   "source": [
    "with open('Mail_freq.csv', 'w', newline=\"\") as csvfile:\n",
    "    csv_output = csv.writer(csvfile)\n",
    "    csv_output.writerow(['HourOfTheDay', 'Frequency'])\n",
    "    for row in sorted_x:\n",
    "        csv_output.writerow([row[0], row[1]])\n",
    "        csvfile.close"
   ]
  },
  {
   "cell_type": "code",
   "execution_count": 5,
   "metadata": {
    "collapsed": false
   },
   "outputs": [
    {
     "data": {
      "image/png": "[encoded data removed]",
      "text/plain": [
       "<matplotlib.figure.Figure at 0x1388976bc50>"
      ]
     },
     "metadata": {},
     "output_type": "display_data"
    }
   ],
   "source": [
    "csvfile = open('Mail_freq.csv', 'r')\n",
    "hour=[]\n",
    "freq=[]\n",
    "csv_f=csv.reader(csvfile)\n",
    "for row in csv_f:\n",
    "    hour.append(row[0])\n",
    "    freq.append(row[1])\n",
    "hour.pop(0)\n",
    "freq.pop(0)\n",
    "plt.loglog(freq,hour,color='b',linewidth=4)\n",
    "plt.grid(True)\n",
    "plt.title(\"Plot for No of Emails vs Time\")\n",
    "plt.xlabel(\"Frequency\")\n",
    "plt.ylabel(\"Hour\")\n",
    "plt.show()"
   ]
  }
 ],
 "metadata": {
  "anaconda-cloud": {},
  "kernelspec": {
   "display_name": "Python [conda root]",
   "language": "python",
   "name": "conda-root-py"
  },
  "language_info": {
   "codemirror_mode": {
    "name": "ipython",
    "version": 3
   },
   "file_extension": ".py",
   "mimetype": "text/x-python",
   "name": "python",
   "nbconvert_exporter": "python",
   "pygments_lexer": "ipython3",
   "version": "3.5.2"
  }
 },
 "nbformat": 4,
 "nbformat_minor": 1
}
