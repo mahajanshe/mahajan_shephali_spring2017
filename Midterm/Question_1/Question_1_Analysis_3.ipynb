{
 "cells": [
  {
   "cell_type": "markdown",
   "metadata": {},
   "source": [
    "# Question_1_Analysis_3\n",
    "\n",
    "* Finding the top words used by chairman Key Lay and CEO Jeffrey Skilling in all the emails sent by them"
   ]
  },
  {
   "cell_type": "code",
   "execution_count": 25,
   "metadata": {
    "collapsed": true
   },
   "outputs": [],
   "source": [
    "# importing libraries\n",
    "import os\n",
    "import glob\n",
    "import re\n",
    "import email\n",
    "import string\n",
    "from nltk.tokenize import word_tokenize\n",
    "from validate_email import validate_email\n",
    "from nltk.corpus import stopwords\n",
    "from email.parser import Parser\n",
    "ceo_path = glob.glob(r'C:\\Users\\Shephali Mahajan\\Desktop\\Python_Midterm\\Enron_Data\\Enron_Dataset\\maildir\\skilling-j*')\n",
    "chairman_path = glob.glob(r'C:\\Users\\Shephali Mahajan\\Desktop\\Python_Midterm\\Enron_Data\\Enron_Dataset\\maildir\\lay-k*')"
   ]
  },
  {
   "cell_type": "code",
   "execution_count": 28,
   "metadata": {
    "collapsed": true
   },
   "outputs": [],
   "source": [
    "# Function to find the frequency\n",
    "def frequency_list(list):\n",
    "    frequency = {}\n",
    "    for y in list:\n",
    "        if y not in frequency:\n",
    "            frequency[y] = 1\n",
    "        else:\n",
    "            frequency[y] += 1\n",
    "    return frequency"
   ]
  },
  {
   "cell_type": "code",
   "execution_count": 29,
   "metadata": {
    "collapsed": true
   },
   "outputs": [],
   "source": [
    "#Function to sort words as per the frequency\n",
    "def get_top_words(frequency_words):\n",
    "    sorted_list = sorted(frequency_words.items(), key = lambda x:x[1], reverse = True)\n",
    "    top_10_words = sorted_list[0:10]\n",
    "    return top_10_words"
   ]
  },
  {
   "cell_type": "code",
   "execution_count": 30,
   "metadata": {
    "collapsed": false
   },
   "outputs": [],
   "source": [
    "# Looping through the folders and fetch all the sent mails and fetch its body and append it to the text file\n",
    "email_body_ceo = []\n",
    "sent_str = ''\n",
    "for folder_list in ceo_path:\n",
    "    all_folders = glob.glob(os.path.join(folder_list, '*sent*'))\n",
    "    for all_sent_folders in all_folders:\n",
    "        all_mails = glob.glob(os.path.join(all_sent_folders, '*'))\n",
    "        for mail in all_mails:\n",
    "            with open(mail, \"r\") as f:\n",
    "                data = f.read()\n",
    "            email = Parser().parsestr(data)\n",
    "            email_body_ceo.append(email.get_payload())\n",
    "    with open(\"email_ceo_content.txt\", \"w\") as f:\n",
    "        for email_content in email_body_ceo:\n",
    "            f.write(email_content)\n",
    "            \n",
    "# below code will read the text file and filter stopwords and punctuations calculate frequency and fetch top 10 words\n",
    "    with open(\"email_ceo_content.txt\", \"r\") as f:\n",
    "        data = f.read()\n",
    "    words= word_tokenize(data)\n",
    "    filtered_words = [word for word in words if word not in stopwords.words('english')]\n",
    "    nonPunct = re.compile('.*[A-Za-z].*')  # filter out punctutations, only characters present\n",
    "    clean_word_list = [w for w in filtered_words if nonPunct.match(w)]\n",
    "    words_lower = [x.lower() for x in clean_word_list]\n",
    "    frequency_words = frequency_list(words_lower)\n",
    "    ceo_top_words = get_top_words(frequency_words)"
   ]
  },
  {
   "cell_type": "code",
   "execution_count": 33,
   "metadata": {
    "collapsed": false
   },
   "outputs": [
    {
     "data": {
      "text/plain": [
       "[('i', 1913),\n",
       " ('enron', 1581),\n",
       " ('jeff', 1341),\n",
       " ('to', 724),\n",
       " (\"'s\", 658),\n",
       " ('subject', 647),\n",
       " ('enron.com', 611),\n",
       " ('please', 604),\n",
       " ('skilling', 593),\n",
       " ('cc', 577)]"
      ]
     },
     "execution_count": 33,
     "metadata": {},
     "output_type": "execute_result"
    }
   ],
   "source": [
    "ceo_top_words"
   ]
  },
  {
   "cell_type": "code",
   "execution_count": 32,
   "metadata": {
    "collapsed": false
   },
   "outputs": [],
   "source": [
    "# Looping through the folder, get the sent mails and fetch its body and append it to the text file\n",
    "email_body_chairman = []\n",
    "sent_str = ''\n",
    "for folder_list in chairman_path:\n",
    "    all_folders = glob.glob(os.path.join(folder_list, '*sent*'))\n",
    "    for all_sent_folders in all_folders:\n",
    "        all_mails = glob.glob(os.path.join(all_sent_folders, '*'))\n",
    "        for mail in all_mails:\n",
    "            with open(mail, \"r\") as f:\n",
    "                data = f.read()\n",
    "            email = Parser().parsestr(data)\n",
    "            email_body_chairman.append(email.get_payload())\n",
    "    with open(\"email_chair_content.txt\", \"w\") as f:\n",
    "        for email_chair_content in email_body_chairman:\n",
    "            f.write(email_chair_content)\n",
    "\n",
    "# below code will read the text file and filter stopwords and punctuations calculate frequency and fetch top 10 words\n",
    "    with open(\"email_chair_content.txt\", \"r\") as f:\n",
    "        data = f.read()\n",
    "    words= word_tokenize(data)\n",
    "    filtered_words = [word for word in words if word not in stopwords.words('english')]\n",
    "    nonPunct = re.compile('.*[A-Za-z].*')  # filter out punctutations, only characters present\n",
    "    clean_word_list = [w for w in filtered_words if nonPunct.match(w)]\n",
    "    words_lower = [x.lower() for x in clean_word_list]\n",
    "    frequency_words = frequency_list(words_lower)\n",
    "    chair_top_words = get_top_words(frequency_words)"
   ]
  },
  {
   "cell_type": "code",
   "execution_count": 34,
   "metadata": {
    "collapsed": false
   },
   "outputs": [
    {
     "data": {
      "text/plain": [
       "[('enron', 1807),\n",
       " ('i', 1412),\n",
       " ('ect', 730),\n",
       " ('to', 663),\n",
       " (\"'s\", 654),\n",
       " ('please', 606),\n",
       " ('subject', 585),\n",
       " ('the', 585),\n",
       " ('lay', 584),\n",
       " ('communications', 576)]"
      ]
     },
     "execution_count": 34,
     "metadata": {},
     "output_type": "execute_result"
    }
   ],
   "source": [
    "chair_top_words"
   ]
  }
 ],
 "metadata": {
  "anaconda-cloud": {},
  "kernelspec": {
   "display_name": "Python [conda root]",
   "language": "python",
   "name": "conda-root-py"
  },
  "language_info": {
   "codemirror_mode": {
    "name": "ipython",
    "version": 3
   },
   "file_extension": ".py",
   "mimetype": "text/x-python",
   "name": "python",
   "nbconvert_exporter": "python",
   "pygments_lexer": "ipython3",
   "version": "3.5.2"
  }
 },
 "nbformat": 4,
 "nbformat_minor": 1
}
