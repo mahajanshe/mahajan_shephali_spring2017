{
 "cells": [
  {
   "cell_type": "markdown",
   "metadata": {},
   "source": [
    "# Question7"
   ]
  },
  {
   "cell_type": "code",
   "execution_count": null,
   "metadata": {
    "collapsed": true
   },
   "outputs": [],
   "source": [
    "-- calculate the probability of a name being of a male or female base on the last character(s) of name."
   ]
  },
  {
   "cell_type": "code",
   "execution_count": 1,
   "metadata": {
    "collapsed": false
   },
   "outputs": [],
   "source": [
    "import nltk"
   ]
  },
  {
   "cell_type": "code",
   "execution_count": 2,
   "metadata": {
    "collapsed": false
   },
   "outputs": [],
   "source": [
    "from nltk.corpus import names"
   ]
  },
  {
   "cell_type": "code",
   "execution_count": 3,
   "metadata": {
    "collapsed": false
   },
   "outputs": [
    {
     "data": {
      "text/plain": [
       "['female.txt', 'male.txt']"
      ]
     },
     "execution_count": 3,
     "metadata": {},
     "output_type": "execute_result"
    }
   ],
   "source": [
    "names.fileids()"
   ]
  },
  {
   "cell_type": "code",
   "execution_count": 21,
   "metadata": {
    "collapsed": false
   },
   "outputs": [
    {
     "data": {
      "text/plain": [
       "['r', 'n', 'y', 'e', 't']"
      ]
     },
     "execution_count": 21,
     "metadata": {},
     "output_type": "execute_result"
    }
   ],
   "source": [
    "#taking out last letter of each name in from the male name list\n",
    "male_last_letter = [] #new blank list is created\n",
    "for name in names.words('male.txt'):\n",
    "    cc =(name[-1])\n",
    "    male_last_letter.append(cc) # appending into created list, tt\n",
    "male_last_letter[:5]"
   ]
  },
  {
   "cell_type": "code",
   "execution_count": 28,
   "metadata": {
    "collapsed": false
   },
   "outputs": [
    {
     "data": {
      "text/plain": [
       "{'a': 29,\n",
       " 'b': 21,\n",
       " 'c': 25,\n",
       " 'd': 228,\n",
       " 'e': 468,\n",
       " 'f': 25,\n",
       " 'g': 32,\n",
       " 'h': 93,\n",
       " 'i': 50,\n",
       " 'j': 3,\n",
       " 'k': 69,\n",
       " 'l': 187,\n",
       " 'm': 70,\n",
       " 'n': 478,\n",
       " 'o': 165,\n",
       " 'p': 18,\n",
       " 'r': 190,\n",
       " 's': 230,\n",
       " 't': 164,\n",
       " 'u': 12,\n",
       " 'v': 16,\n",
       " 'w': 17,\n",
       " 'x': 10,\n",
       " 'y': 332,\n",
       " 'z': 11}"
      ]
     },
     "execution_count": 28,
     "metadata": {},
     "output_type": "execute_result"
    }
   ],
   "source": [
    "#counting how many time ending letters of male appear\n",
    "ss_male = {}\n",
    "for char in male_last_letter: # iterate characters in the list\n",
    "    if char not in ss_male: \n",
    "        ss_male[char] = 1 # if word appears first time, it will add value 1 of corresponding key in the dictionary\n",
    "    else:\n",
    "        ss_male[char] += 1 # if word reappears, it will increment value of corresponding key\n",
    "ss_male        "
   ]
  },
  {
   "cell_type": "code",
   "execution_count": 29,
   "metadata": {
    "collapsed": false
   },
   "outputs": [
    {
     "data": {
      "text/plain": [
       "{'a': 29,\n",
       " 'b': 21,\n",
       " 'c': 25,\n",
       " 'd': 228,\n",
       " 'e': 468,\n",
       " 'f': 25,\n",
       " 'g': 32,\n",
       " 'h': 93,\n",
       " 'i': 50,\n",
       " 'j': 3,\n",
       " 'k': 69,\n",
       " 'l': 187,\n",
       " 'm': 70,\n",
       " 'n': 478,\n",
       " 'o': 165,\n",
       " 'p': 18,\n",
       " 'r': 190,\n",
       " 's': 230,\n",
       " 't': 164,\n",
       " 'u': 12,\n",
       " 'v': 16,\n",
       " 'w': 17,\n",
       " 'x': 10,\n",
       " 'y': 332,\n",
       " 'z': 11}"
      ]
     },
     "execution_count": 29,
     "metadata": {},
     "output_type": "execute_result"
    }
   ],
   "source": [
    "\n",
    "alphabets_male = []    #creating empty list\n",
    "missing_alphabets_male = []  #creating empty list for missing alphabets\n",
    "for letter in range(97,122):\n",
    "    alphabets_male.append(chr(letter))   #appending the character\n",
    "\n",
    "for a in alphabets_male:                  #for loop to check missing alphabet\n",
    "    if a not in ss_male:\n",
    "        missing_alphabets_male.append(a)\n",
    "\n",
    "for char in missing_alphabets_male:       \n",
    "    male.update({char:0})\n",
    "\n",
    "ss_male"
   ]
  },
  {
   "cell_type": "code",
   "execution_count": 24,
   "metadata": {
    "collapsed": false
   },
   "outputs": [
    {
     "data": {
      "text/plain": [
       "['l', 'l', 'e', 'y', 'i']"
      ]
     },
     "execution_count": 24,
     "metadata": {},
     "output_type": "execute_result"
    }
   ],
   "source": [
    "female_last_letter = []  #creating empty list\n",
    "for name in names.words('female.txt'):  #for loop to remove last character in female names\n",
    "    female =name[-1]\n",
    "    female_last_letter.append(female)\n",
    "female_last_letter[:5]"
   ]
  },
  {
   "cell_type": "code",
   "execution_count": 25,
   "metadata": {
    "collapsed": false
   },
   "outputs": [
    {
     "data": {
      "text/plain": [
       "{' ': 1,\n",
       " 'a': 1773,\n",
       " 'b': 9,\n",
       " 'd': 39,\n",
       " 'e': 1432,\n",
       " 'f': 2,\n",
       " 'g': 10,\n",
       " 'h': 105,\n",
       " 'i': 317,\n",
       " 'j': 1,\n",
       " 'k': 3,\n",
       " 'l': 179,\n",
       " 'm': 13,\n",
       " 'n': 386,\n",
       " 'o': 33,\n",
       " 'p': 2,\n",
       " 'r': 47,\n",
       " 's': 93,\n",
       " 't': 68,\n",
       " 'u': 6,\n",
       " 'v': 2,\n",
       " 'w': 5,\n",
       " 'x': 10,\n",
       " 'y': 461,\n",
       " 'z': 4}"
      ]
     },
     "execution_count": 25,
     "metadata": {},
     "output_type": "execute_result"
    }
   ],
   "source": [
    "#counting frequency of end characters of female appear\n",
    "ss_female = {}   #creating empty directory\n",
    "for char in female_last_letter: # iterate characters in the raw file\n",
    "    if char not in ss_female : \n",
    "        ss_female [char] = 1 \n",
    "    else:\n",
    "        ss_female [char] += 1    # if word appears first time, it will add to the dictionary \n",
    "ss_female "
   ]
  },
  {
   "cell_type": "code",
   "execution_count": 26,
   "metadata": {
    "collapsed": false
   },
   "outputs": [
    {
     "data": {
      "text/plain": [
       "{' ': 1,\n",
       " 'a': 1773,\n",
       " 'b': 9,\n",
       " 'c': 0,\n",
       " 'd': 39,\n",
       " 'e': 1432,\n",
       " 'f': 2,\n",
       " 'g': 10,\n",
       " 'h': 105,\n",
       " 'i': 317,\n",
       " 'j': 1,\n",
       " 'k': 3,\n",
       " 'l': 179,\n",
       " 'm': 13,\n",
       " 'n': 386,\n",
       " 'o': 33,\n",
       " 'p': 2,\n",
       " 'q': 0,\n",
       " 'r': 47,\n",
       " 's': 93,\n",
       " 't': 68,\n",
       " 'u': 6,\n",
       " 'v': 2,\n",
       " 'w': 5,\n",
       " 'x': 10,\n",
       " 'y': 461,\n",
       " 'z': 4}"
      ]
     },
     "execution_count": 26,
     "metadata": {},
     "output_type": "execute_result"
    }
   ],
   "source": [
    "#updating the dict, ss_female for those alphabets which are not appeared in the dict. It will add that letter with value 0\n",
    "alphabets_female = []   # creating empty list\n",
    "missing_alphabets_female = []   # creating empty list for missing alphabets\n",
    "for letter in range(97,122):     \n",
    "    alphabets_female.append(chr(letter))\n",
    "\n",
    "for a in alphabets_female:\n",
    "    if a not in ss_female:\n",
    "        missing_alphabets_female.append(a)  #appending missing alphabets\n",
    "\n",
    "for char in missing_alphabets_female:\n",
    "    ss_female.update({char:0})\n",
    "\n",
    "ss_female"
   ]
  },
  {
   "cell_type": "code",
   "execution_count": 30,
   "metadata": {
    "collapsed": false
   },
   "outputs": [
    {
     "name": "stdout",
     "output_type": "stream",
     "text": [
      "Percentage ratio of Male and Female ending in letter: a\n",
      "Male: \t 2 %\n",
      "Female:\t 98 %\n",
      "\n",
      "\n",
      "Percentage ratio of Male and Female ending in letter: b\n",
      "Male: \t 70 %\n",
      "Female:\t 30 %\n",
      "\n",
      "\n",
      "Percentage ratio of Male and Female ending in letter: c\n",
      "Male: \t 100 %\n",
      "Female:\t 0 %\n",
      "\n",
      "\n",
      "Percentage ratio of Male and Female ending in letter: d\n",
      "Male: \t 85 %\n",
      "Female:\t 15 %\n",
      "\n",
      "\n",
      "Percentage ratio of Male and Female ending in letter: e\n",
      "Male: \t 25 %\n",
      "Female:\t 75 %\n",
      "\n",
      "\n",
      "Percentage ratio of Male and Female ending in letter: f\n",
      "Male: \t 93 %\n",
      "Female:\t 7 %\n",
      "\n",
      "\n",
      "Percentage ratio of Male and Female ending in letter: g\n",
      "Male: \t 76 %\n",
      "Female:\t 24 %\n",
      "\n",
      "\n",
      "Percentage ratio of Male and Female ending in letter: h\n",
      "Male: \t 47 %\n",
      "Female:\t 53 %\n",
      "\n",
      "\n",
      "Percentage ratio of Male and Female ending in letter: i\n",
      "Male: \t 14 %\n",
      "Female:\t 86 %\n",
      "\n",
      "\n",
      "Percentage ratio of Male and Female ending in letter: j\n",
      "Male: \t 75 %\n",
      "Female:\t 25 %\n",
      "\n",
      "\n",
      "Percentage ratio of Male and Female ending in letter: k\n",
      "Male: \t 96 %\n",
      "Female:\t 4 %\n",
      "\n",
      "\n",
      "Percentage ratio of Male and Female ending in letter: l\n",
      "Male: \t 51 %\n",
      "Female:\t 49 %\n",
      "\n",
      "\n",
      "Percentage ratio of Male and Female ending in letter: m\n",
      "Male: \t 84 %\n",
      "Female:\t 16 %\n",
      "\n",
      "\n",
      "Percentage ratio of Male and Female ending in letter: n\n",
      "Male: \t 55 %\n",
      "Female:\t 45 %\n",
      "\n",
      "\n",
      "Percentage ratio of Male and Female ending in letter: o\n",
      "Male: \t 83 %\n",
      "Female:\t 17 %\n",
      "\n",
      "\n",
      "Percentage ratio of Male and Female ending in letter: p\n",
      "Male: \t 90 %\n",
      "Female:\t 10 %\n",
      "\n",
      "\n",
      "Percentage ratio of Male and Female ending in letter: r\n",
      "Male: \t 80 %\n",
      "Female:\t 20 %\n",
      "\n",
      "\n",
      "Percentage ratio of Male and Female ending in letter: s\n",
      "Male: \t 71 %\n",
      "Female:\t 29 %\n",
      "\n",
      "\n",
      "Percentage ratio of Male and Female ending in letter: t\n",
      "Male: \t 71 %\n",
      "Female:\t 29 %\n",
      "\n",
      "\n",
      "Percentage ratio of Male and Female ending in letter: u\n",
      "Male: \t 67 %\n",
      "Female:\t 33 %\n",
      "\n",
      "\n",
      "Percentage ratio of Male and Female ending in letter: v\n",
      "Male: \t 89 %\n",
      "Female:\t 11 %\n",
      "\n",
      "\n",
      "Percentage ratio of Male and Female ending in letter: w\n",
      "Male: \t 77 %\n",
      "Female:\t 23 %\n",
      "\n",
      "\n",
      "Percentage ratio of Male and Female ending in letter: x\n",
      "Male: \t 50 %\n",
      "Female:\t 50 %\n",
      "\n",
      "\n",
      "Percentage ratio of Male and Female ending in letter: y\n",
      "Male: \t 42 %\n",
      "Female:\t 58 %\n",
      "\n",
      "\n",
      "Percentage ratio of Male and Female ending in letter: z\n",
      "Male: \t 73 %\n",
      "Female:\t 27 %\n",
      "\n",
      "\n"
     ]
    }
   ],
   "source": [
    "# Probability of male name or female name\n",
    "\n",
    "for letter in range(96,123):  #iterating over ascii number for a to z\n",
    "    for key1, value1 in ss_male.items():\n",
    "        if key1==chr(letter):\n",
    "            for key2, value2 in ss_female.items(): #iterating over ascii number for a to z\n",
    "                if key2==chr(letter):\n",
    "                    try:\n",
    "                        print(\"Percentage ratio of Male and Female ending in letter:\", key2)\n",
    "                        print('Male: \\t', round((value1/(value1+value2))*100),'%')\n",
    "                        print('Female:\\t', round((value2/(value1+value2))*100),'%')\n",
    "                        print(\"\\n\")\n",
    "                    except ZeroDivisionError:\n",
    "                        print('No data available!! for letter ending with',key2)\n",
    "                        print(\"\\n\")\n",
    "          "
   ]
  }
 ],
 "metadata": {
  "anaconda-cloud": {},
  "kernelspec": {
   "display_name": "Python [conda root]",
   "language": "python",
   "name": "conda-root-py"
  },
  "language_info": {
   "codemirror_mode": {
    "name": "ipython",
    "version": 3
   },
   "file_extension": ".py",
   "mimetype": "text/x-python",
   "name": "python",
   "nbconvert_exporter": "python",
   "pygments_lexer": "ipython3",
   "version": "3.5.2"
  }
 },
 "nbformat": 4,
 "nbformat_minor": 1
}
