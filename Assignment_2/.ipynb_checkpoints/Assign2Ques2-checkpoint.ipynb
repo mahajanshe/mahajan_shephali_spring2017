{
 "cells": [
  {
   "cell_type": "code",
   "execution_count": null,
   "metadata": {
    "collapsed": true
   },
   "outputs": [],
   "source": [
    "import os, json\n",
    "\n",
    "\n",
    "path_to_json = 'C:\\sem 2\\git_python\\DataAnalysis4Python_Spring17\\DataAnalysis4Python_Spring17\\Assignment 2\\Data'\n",
    "json_files = [pos_json for pos_json in os.listdir(path_to_json) if pos_json.endswith('.json')]\n",
    "print (json_files)  # for me this prints ['foo.json']"
   ]
  },
  {
   "cell_type": "code",
   "execution_count": 4,
   "metadata": {
    "collapsed": true
   },
   "outputs": [],
   "source": [
    "import os, json\n",
    "path_to_json = 'C:\\sem 2\\git_python\\DataAnalysis4Python_Spring17\\DataAnalysis4Python_Spring17\\Assignment 2\\Data'\n",
    "json_files = [pos_json for pos_json in os.listdir(path_to_json) if pos_json.endswith('.json')]"
   ]
  }
 ],
 "metadata": {
  "anaconda-cloud": {},
  "kernelspec": {
   "display_name": "Python [conda root]",
   "language": "python",
   "name": "conda-root-py"
  },
  "language_info": {
   "codemirror_mode": {
    "name": "ipython",
    "version": 3
   },
   "file_extension": ".py",
   "mimetype": "text/x-python",
   "name": "python",
   "nbconvert_exporter": "python",
   "pygments_lexer": "ipython3",
   "version": "3.5.2"
  }
 },
 "nbformat": 4,
 "nbformat_minor": 1
}
