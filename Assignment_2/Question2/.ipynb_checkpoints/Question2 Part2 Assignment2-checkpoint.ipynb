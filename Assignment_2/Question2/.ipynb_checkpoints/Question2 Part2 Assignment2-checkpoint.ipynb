{
 "cells": [
  {
   "cell_type": "markdown",
   "metadata": {},
   "source": [
    "# Question2 Part2 Assignment2"
   ]
  },
  {
   "cell_type": "code",
   "execution_count": 7,
   "metadata": {
    "collapsed": true
   },
   "outputs": [],
   "source": [
    "import json  # imported json\n",
    "import glob   # imported glob\n",
    "import os   # imported os\n",
    "import csv  # imported csv\n",
    "files = glob.glob(r'C:\\sem 2\\git_python\\DataAnalysis4Python_Spring17\\DataAnalysis4Python_Spring17\\Assignment 2\\Data\\*')  # storing readeable files in a variable"
   ]
  },
  {
   "cell_type": "code",
   "execution_count": 9,
   "metadata": {
    "collapsed": false
   },
   "outputs": [],
   "source": [
    "with open('Restaurant.csv', 'w', encoding=\"utf-8\", errors=\"ignore\", newline=\"\") as csvfile:   #opening csv file\n",
    "    fieldnames = ['Name of Restaurant', 'City', 'Country Code', 'Day of week', 'Start Time', 'End Time'] #Title of columns\n",
    "    writer = csv.DictWriter(csvfile, fieldnames=fieldnames)  \n",
    "    writer.writeheader()          #writing heading to csv file\n",
    "    for q in files:                #for loop to read files \n",
    "        with open(q, 'r') as f:     #open files\n",
    "            json_file = json.load(f)  \n",
    "            b = json_file[\"term\"]\n",
    "            if b== 'restaurants':  # check for term as restaurants\n",
    "                key_1 = json_file.keys()\n",
    "                for c in key_1:\n",
    "                    if c =='hours':   #store country, city and name  for key: hours\n",
    "                        co= json_file[\"location\"][\"country\"]\n",
    "                        ci= json_file[\"location\"][\"city\"]\n",
    "                        r = json_file[\"name\"]\n",
    "                        data_list=json_file[\"hours\"][0][\"open\"] \n",
    "                        length_data=len(data_list)-1\n",
    "                        for n in data_list:   # for loop to store start and end time of restaurants for particular days\n",
    "                            day=data_list[length_data][\"day\"]\n",
    "                            end_time=data_list[length_data][\"end\"]\n",
    "                            strt_time=data_list[length_data][\"start\"]\n",
    "                            writer.writerow({'Name of Restaurant':r, 'City': ci, 'Country Code':co, 'Day of week':day, 'Start Time':strt_time, 'End Time':end_time})\n",
    "                            length_data-=1\n"
   ]
  }
 ],
 "metadata": {
  "anaconda-cloud": {},
  "kernelspec": {
   "display_name": "Python [conda root]",
   "language": "python",
   "name": "conda-root-py"
  },
  "language_info": {
   "codemirror_mode": {
    "name": "ipython",
    "version": 3
   },
   "file_extension": ".py",
   "mimetype": "text/x-python",
   "name": "python",
   "nbconvert_exporter": "python",
   "pygments_lexer": "ipython3",
   "version": "3.5.2"
  }
 },
 "nbformat": 4,
 "nbformat_minor": 1
}
