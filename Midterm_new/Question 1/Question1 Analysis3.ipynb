{
 "cells": [
  {
   "cell_type": "code",
   "execution_count": 3,
   "metadata": {
    "collapsed": true
   },
   "outputs": [],
   "source": [
    "#In this analsis, we are tracking the people with whom Ken Lay interacted\n",
    "# The following analysis shows the people and number of mails inbox to Ken Lay"
   ]
  },
  {
   "cell_type": "code",
   "execution_count": 31,
   "metadata": {
    "collapsed": true
   },
   "outputs": [],
   "source": [
    "# Importing all needed libraries\n",
    "import glob, os, csv, datetime, email, string, re\n",
    "import csv\n",
    "import matplotlib.pyplot as plt\n",
    "from email.parser import Parser\n",
    "from nltk.tokenize import word_tokenize"
   ]
  },
  {
   "cell_type": "code",
   "execution_count": 32,
   "metadata": {
    "collapsed": true
   },
   "outputs": [],
   "source": [
    "# Folder path\n",
    "path = 'C:/Users/knave/Desktop/Python Assignments/Midterm/enron_mail_20150507/maildir/lay-k'"
   ]
  },
  {
   "cell_type": "code",
   "execution_count": 33,
   "metadata": {
    "collapsed": true
   },
   "outputs": [],
   "source": [
    "y= []"
   ]
  },
  {
   "cell_type": "code",
   "execution_count": 34,
   "metadata": {
    "collapsed": false
   },
   "outputs": [],
   "source": [
    "for root, dirs, files in os.walk(path, topdown=False):\n",
    "    for name in files:\n",
    "        with open(os.path.join(root, name)) as words:\n",
    "            string = words.read()\n",
    "            mail = Parser().parsestr(string)\n",
    "            to_mail= mail['From'].split(',')\n",
    "            for new_line in to_mail:\n",
    "                new_line = [new_line.replace('\\n\\t', '') for new_line in to_mail]\n",
    "                y.append(new_line)"
   ]
  },
  {
   "cell_type": "code",
   "execution_count": 35,
   "metadata": {
    "collapsed": true
   },
   "outputs": [],
   "source": [
    "x= [j for i in y for j in i]\n",
    "enron_email = []\n",
    "for s in x:\n",
    "    y = (s.split(\"@\"))[1]\n",
    "    if y == 'enron.com':\n",
    "        enron_email.append(s)"
   ]
  },
  {
   "cell_type": "code",
   "execution_count": 56,
   "metadata": {
    "collapsed": false
   },
   "outputs": [],
   "source": [
    "d= {}\n",
    "for item in enron_email:\n",
    "    if item in d:\n",
    "        d[item] = d.get(item)+1\n",
    "    else:\n",
    "        d[item] = 1\n",
    "dictlist = []\n",
    "for key, value in d.items():\n",
    "    temp = [key,value]\n",
    "    dictlist.append(temp)        \n",
    "sorting = sorted(d.items(), key = lambda x:x[1], reverse = True)"
   ]
  },
  {
   "cell_type": "code",
   "execution_count": 52,
   "metadata": {
    "collapsed": true
   },
   "outputs": [],
   "source": [
    "# Storing the result in csv file\n",
    "with open('Email.csv', 'w', newline=\"\") as file:\n",
    "    csv_output = csv.writer(file)\n",
    "    csv_output.writerow(['Email_IDs', 'Frequency'])\n",
    "    for row in sorting:\n",
    "        csv_output.writerow([row[0], row[1]])\n",
    "        file.close"
   ]
  }
 ],
 "metadata": {
  "kernelspec": {
   "display_name": "Python [conda root]",
   "language": "python",
   "name": "conda-root-py"
  },
  "language_info": {
   "codemirror_mode": {
    "name": "ipython",
    "version": 3
   },
   "file_extension": ".py",
   "mimetype": "text/x-python",
   "name": "python",
   "nbconvert_exporter": "python",
   "pygments_lexer": "ipython3",
   "version": "3.5.2"
  }
 },
 "nbformat": 4,
 "nbformat_minor": 1
}
