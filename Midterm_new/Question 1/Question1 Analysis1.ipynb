{
 "cells": [
  {
   "cell_type": "code",
   "execution_count": null,
   "metadata": {
    "collapsed": true
   },
   "outputs": [],
   "source": [
    "# This analysis includes the sent mail folder of Jeffrey skilling who is one of the suspects behind the scandal.\n",
    "# The analysis is to find the mails sent by J Skilling after office hours.\n",
    "# The analysis also the frequency of mails sent by J Skilling and to whom."
   ]
  },
  {
   "cell_type": "code",
   "execution_count": 1,
   "metadata": {
    "collapsed": false
   },
   "outputs": [],
   "source": [
    "# Importing all needed libraries\n",
    "import glob, os, csv, datetime\n",
    "import csv\n",
    "import matplotlib.pyplot as plt\n",
    "from email.parser import Parser"
   ]
  },
  {
   "cell_type": "code",
   "execution_count": 2,
   "metadata": {
    "collapsed": false
   },
   "outputs": [],
   "source": [
    "# Folder path\n",
    "path = 'C:/Users/knave/Desktop/Python Assignments/Midterm/enron_mail_20150507/maildir/skilling-j/_sent_mail'"
   ]
  },
  {
   "cell_type": "code",
   "execution_count": 4,
   "metadata": {
    "collapsed": true
   },
   "outputs": [],
   "source": [
    "#creating empty lists\n",
    "words= []\n",
    "late_mail = []\n",
    "#counter = 0"
   ]
  },
  {
   "cell_type": "code",
   "execution_count": 5,
   "metadata": {
    "collapsed": true
   },
   "outputs": [],
   "source": [
    "#Formating timestamp in the mails\n",
    "\n",
    "from datetime import datetime, timedelta\n",
    "\n",
    "def parse_time(s):\n",
    "    ''' Parse 12-hours format '''\n",
    "    return datetime.strptime(s, \"%H:%M:%S\")\n",
    "\n",
    "starttime = parse_time('23:00:00')\n",
    "endtime   = parse_time('7:00:00')"
   ]
  },
  {
   "cell_type": "code",
   "execution_count": 6,
   "metadata": {
    "collapsed": false
   },
   "outputs": [],
   "source": [
    "#Reading the time for sent mails from files and folders \n",
    "\n",
    "for root, dirs, files in os.walk(path, topdown=False):\n",
    "    for name in files:\n",
    "        with open(os.path.join(root, name)) as words:\n",
    "            string = words.read()\n",
    "            mail = Parser().parsestr(string)\n",
    "            date_time= mail['Date']\n",
    "            sent_time=date_time[17:-12]\n",
    "            for sent_time in [starttime, endtime]:\n",
    "                if mail['to']:\n",
    "                    receiver = mail['to']\n",
    "                    late_mail.append(receiver)\n",
    "        "
   ]
  },
  {
   "cell_type": "code",
   "execution_count": 7,
   "metadata": {
    "collapsed": false
   },
   "outputs": [],
   "source": [
    "# Creating a dictionary with emailID and corresponding frequency and sorting them\n",
    "d= {}\n",
    "for item in late_mail:\n",
    "    if item in d:\n",
    "        d[item] = d.get(item)+1\n",
    "    else:\n",
    "        d[item] = 1\n",
    "dictlist = []\n",
    "for key, value in d.items():\n",
    "    temp = [key,value]\n",
    "    dictlist.append(temp)        \n",
    "sorting = sorted(d.items(), key = lambda x:x[1], reverse = True)"
   ]
  },
  {
   "cell_type": "code",
   "execution_count": 8,
   "metadata": {
    "collapsed": false
   },
   "outputs": [],
   "source": [
    "# Storing the result in csv file\n",
    "with open('senttime.csv', 'w', newline=\"\") as file:\n",
    "    csv_output = csv.writer(file)\n",
    "    csv_output.writerow(['Email_IDs', 'Frequency'])\n",
    "    for row in sorting:\n",
    "        csv_output.writerow([row[0], row[1]])\n",
    "        file.close"
   ]
  }
 ],
 "metadata": {
  "kernelspec": {
   "display_name": "Python [conda root]",
   "language": "python",
   "name": "conda-root-py"
  },
  "language_info": {
   "codemirror_mode": {
    "name": "ipython",
    "version": 3
   },
   "file_extension": ".py",
   "mimetype": "text/x-python",
   "name": "python",
   "nbconvert_exporter": "python",
   "pygments_lexer": "ipython3",
   "version": "3.5.2"
  }
 },
 "nbformat": 4,
 "nbformat_minor": 1
}
