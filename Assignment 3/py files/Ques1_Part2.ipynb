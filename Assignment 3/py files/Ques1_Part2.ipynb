{
 "cells": [
  {
   "cell_type": "code",
   "execution_count": 1,
   "metadata": {
    "collapsed": true
   },
   "outputs": [],
   "source": [
    "#Importing all the required libraries\n",
    "import pandas as pd\n",
    "import numpy as np\n",
    "import csv\n",
    "import datetime as dt\n",
    "from io import StringIO"
   ]
  },
  {
   "cell_type": "code",
   "execution_count": 2,
   "metadata": {
    "collapsed": true
   },
   "outputs": [],
   "source": [
    "#Converting csv into dataframe\n",
    "df1=pd.read_csv('vehicle_collisions.csv', parse_dates=[1])"
   ]
  },
  {
   "cell_type": "code",
   "execution_count": 6,
   "metadata": {
    "collapsed": false
   },
   "outputs": [],
   "source": [
    "#Creating new dataframe\n",
    "df2 = df1[['BOROUGH', 'VEHICLE 1 TYPE', 'VEHICLE 2 TYPE', 'VEHICLE 3 TYPE', 'VEHICLE 4 TYPE','VEHICLE 5 TYPE']]"
   ]
  },
  {
   "cell_type": "code",
   "execution_count": 16,
   "metadata": {
    "collapsed": false
   },
   "outputs": [],
   "source": [
    "#Filling zero's for NaN values\n",
    "df2 = df2.fillna(value= 0)"
   ]
  },
  {
   "cell_type": "code",
   "execution_count": 19,
   "metadata": {
    "collapsed": false
   },
   "outputs": [],
   "source": [
    "df3 = df2[(df2['BOROUGH'] != 0)]"
   ]
  },
  {
   "cell_type": "code",
   "execution_count": 38,
   "metadata": {
    "collapsed": false
   },
   "outputs": [],
   "source": [
    "df3['VEHICLE 1 TYPE'] = df3['VEHICLE 1 TYPE'].str.replace(r'[a-zA-Z0-9/ ()-]+', '1')\n",
    "df3['VEHICLE 2 TYPE'] = df3['VEHICLE 2 TYPE'].str.replace(r'[a-zA-Z0-9/ ()-]+', '1')\n",
    "df3['VEHICLE 3 TYPE'] = df3['VEHICLE 3 TYPE'].str.replace(r'[a-zA-Z0-9/ ()-]+', '1')\n",
    "df3['VEHICLE 4 TYPE'] = df3['VEHICLE 4 TYPE'].str.replace(r'[a-zA-Z0-9/ ()-]+', '1')\n",
    "df3['VEHICLE 5 TYPE'] = df3['VEHICLE 5 TYPE'].str.replace(r'[a-zA-Z0-9/ ()-]+', '1')"
   ]
  },
  {
   "cell_type": "code",
   "execution_count": 39,
   "metadata": {
    "collapsed": false
   },
   "outputs": [],
   "source": [
    "df3 = df3.fillna(value= 0)"
   ]
  },
  {
   "cell_type": "code",
   "execution_count": 40,
   "metadata": {
    "collapsed": false
   },
   "outputs": [],
   "source": [
    "df3['VEHICLE 1 TYPE']=df3['VEHICLE 1 TYPE'].astype(str).astype(int)\n",
    "df3['VEHICLE 2 TYPE']=df3['VEHICLE 2 TYPE'].astype(str).astype(int)\n",
    "df3['VEHICLE 3 TYPE']=df3['VEHICLE 3 TYPE'].astype(str).astype(int)\n",
    "df3['VEHICLE 4 TYPE']=df3['VEHICLE 4 TYPE'].astype(str).astype(int)\n",
    "df3['VEHICLE 5 TYPE']=df3['VEHICLE 5 TYPE'].astype(str).astype(int)"
   ]
  },
  {
   "cell_type": "code",
   "execution_count": 55,
   "metadata": {
    "collapsed": false,
    "scrolled": true
   },
   "outputs": [],
   "source": [
    "df4= df3.groupby(['BOROUGH'], as_index=False).sum()"
   ]
  },
  {
   "cell_type": "code",
   "execution_count": 58,
   "metadata": {
    "collapsed": false
   },
   "outputs": [],
   "source": [
    "df4['ONE_VEHICLE_INVOLVED'] = df4['VEHICLE 1 TYPE'] - df4['VEHICLE 2 TYPE']\n",
    "df4['TWO_VEHICLES_INVOLVED'] = df4['VEHICLE 2 TYPE'] - df4['VEHICLE 3 TYPE']\n",
    "df4['THREE_VEHICLES_INVOLVED'] = df4['VEHICLE 3 TYPE'] - df4['VEHICLE 4 TYPE']\n",
    "df4['MORE_VEHICLES_INVOLVED'] = df4['VEHICLE 4 TYPE']"
   ]
  },
  {
   "cell_type": "code",
   "execution_count": 61,
   "metadata": {
    "collapsed": false,
    "scrolled": true
   },
   "outputs": [
    {
     "name": "stdout",
     "output_type": "stream",
     "text": [
      "         BOROUGH  VEHICLE 1 TYPE  VEHICLE 2 TYPE  VEHICLE 3 TYPE  \\\n",
      "0          BRONX           45599           36972            2587   \n",
      "1       BROOKLYN          104174           86799            6592   \n",
      "2      MANHATTAN           82801           69483            2525   \n",
      "3         QUEENS           89140           76178            5918   \n",
      "4  STATEN ISLAND           13943           11600             924   \n",
      "\n",
      "   VEHICLE 4 TYPE  VEHICLE 5 TYPE  ONE_VEHICLE_INVOLVED  \\\n",
      "0             625             173                  8627   \n",
      "1            1612             461                 17375   \n",
      "2             501             129                 13318   \n",
      "3            1420             314                 12962   \n",
      "4             165              32                  2343   \n",
      "\n",
      "   TWO_VEHICLES_INVOLVED  THREE_VEHICLES_INVOLVED  MORE_VEHICLES_INVOLVED  \n",
      "0                  34385                     1962                     625  \n",
      "1                  80207                     4980                    1612  \n",
      "2                  66958                     2024                     501  \n",
      "3                  70260                     4498                    1420  \n",
      "4                  10676                      759                     165  \n"
     ]
    }
   ],
   "source": [
    "print(df4.head())"
   ]
  },
  {
   "cell_type": "code",
   "execution_count": 60,
   "metadata": {
    "collapsed": true
   },
   "outputs": [],
   "source": [
    "df4.to_csv('vehicle_collisions_new1.csv')"
   ]
  }
 ],
 "metadata": {
  "kernelspec": {
   "display_name": "Python 3",
   "language": "python",
   "name": "python3"
  },
  "language_info": {
   "codemirror_mode": {
    "name": "ipython",
    "version": 3
   },
   "file_extension": ".py",
   "mimetype": "text/x-python",
   "name": "python",
   "nbconvert_exporter": "python",
   "pygments_lexer": "ipython3",
   "version": "3.6.0"
  }
 },
 "nbformat": 4,
 "nbformat_minor": 2
}
