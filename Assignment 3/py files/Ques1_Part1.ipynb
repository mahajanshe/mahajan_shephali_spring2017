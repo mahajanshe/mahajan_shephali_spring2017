{
 "cells": [
  {
   "cell_type": "code",
   "execution_count": 12,
   "metadata": {
    "collapsed": true
   },
   "outputs": [],
   "source": [
    "#Importing all the required libraries\n",
    "import pandas as pd\n",
    "import numpy as np\n",
    "import csv\n",
    "import datetime as dt\n",
    "from io import StringIO"
   ]
  },
  {
   "cell_type": "code",
   "execution_count": 13,
   "metadata": {
    "collapsed": false,
    "scrolled": true
   },
   "outputs": [],
   "source": [
    "#Converting csv into dataframe\n",
    "df1=pd.read_csv('vehicle_collisions.csv', parse_dates=[1])"
   ]
  },
  {
   "cell_type": "code",
   "execution_count": 14,
   "metadata": {
    "collapsed": false
   },
   "outputs": [],
   "source": [
    "#Separating values of year and month from the date format\n",
    "# df['DATE'] = pd.to_datetime(df['date'])\n",
    "df1['year'], df1['month'] = df1['DATE'].dt.year, df1['DATE'].dt.month "
   ]
  },
  {
   "cell_type": "code",
   "execution_count": 15,
   "metadata": {
    "collapsed": false
   },
   "outputs": [],
   "source": [
    "#Creating new dataframe\n",
    "df2 = df1[['DATE', 'BOROUGH', 'year', 'month']]\n"
   ]
  },
  {
   "cell_type": "code",
   "execution_count": 16,
   "metadata": {
    "collapsed": false
   },
   "outputs": [],
   "source": [
    "#Filtering data for 2016 year and Manhattan city\n",
    "df_filtered = df2[(df2['year'] == 2016) & (df2['BOROUGH'] == 'MANHATTAN')]"
   ]
  },
  {
   "cell_type": "code",
   "execution_count": 17,
   "metadata": {
    "collapsed": true
   },
   "outputs": [],
   "source": [
    "#Creating new dataframe\n",
    "df3 = df_filtered[['BOROUGH', 'year', 'month']]"
   ]
  },
  {
   "cell_type": "code",
   "execution_count": 18,
   "metadata": {
    "collapsed": false
   },
   "outputs": [
    {
     "data": {
      "text/plain": [
       "36726"
      ]
     },
     "execution_count": 18,
     "metadata": {},
     "output_type": "execute_result"
    }
   ],
   "source": [
    "#Checking the length of dataframe\n",
    "length_manhattan = len(df_filtered.index)\n",
    "length_manhattan"
   ]
  },
  {
   "cell_type": "code",
   "execution_count": 19,
   "metadata": {
    "collapsed": false
   },
   "outputs": [],
   "source": [
    "#Grouping by the data w.r.t month\n",
    "group_by_month = df3.groupby(['month']).size().reset_index(name= \"MANHATTAN\")"
   ]
  },
  {
   "cell_type": "code",
   "execution_count": 20,
   "metadata": {
    "collapsed": false
   },
   "outputs": [],
   "source": [
    "#Creating dataframe for year 2016\n",
    "df_filtered_ny = df2[df2['year'] == 2016]\n"
   ]
  },
  {
   "cell_type": "code",
   "execution_count": 21,
   "metadata": {
    "collapsed": false
   },
   "outputs": [
    {
     "data": {
      "text/plain": [
       "227605"
      ]
     },
     "execution_count": 21,
     "metadata": {},
     "output_type": "execute_result"
    }
   ],
   "source": [
    "#Checking the length of data frame\n",
    "length_ny = len(df_filtered_ny.index)\n",
    "length_ny"
   ]
  },
  {
   "cell_type": "code",
   "execution_count": 23,
   "metadata": {
    "collapsed": false
   },
   "outputs": [],
   "source": [
    "#Grouping by month to find data for New York\n",
    "group_by_month_ny = df_filtered_ny.groupby(['month']).size().reset_index(name= \"NYC\")"
   ]
  },
  {
   "cell_type": "code",
   "execution_count": 24,
   "metadata": {
    "collapsed": false
   },
   "outputs": [],
   "source": [
    "#Merging the two dataframes (for Manhattan and New York) over month column\n",
    "df4= pd.DataFrame.merge(group_by_month, group_by_month_ny, on='month', how='outer')"
   ]
  },
  {
   "cell_type": "code",
   "execution_count": 25,
   "metadata": {
    "collapsed": false
   },
   "outputs": [],
   "source": [
    "#Renaming the months using if else statements\n",
    "def month(c):\n",
    "    if c[0] == 1:\n",
    "        return 'Jan'\n",
    "    elif c[1] == 2:\n",
    "        return 'Feb'\n",
    "    elif c[2] == 3:\n",
    "        return 'Mar'\n",
    "    elif c[3] == 4:\n",
    "        return 'Apr'\n",
    "    elif c[4] == 5:\n",
    "        return 'May'\n",
    "    elif c[5] == 6:\n",
    "        return 'Jun'\n",
    "    elif c[6] == 7:\n",
    "        return 'Jul'\n",
    "    elif c[7] == 8:\n",
    "        return 'Aug'\n",
    "    elif c[8] == 9:\n",
    "        return 'Sep'\n",
    "    elif c[9] == 10:\n",
    "        return 'Oct'\n",
    "    elif c[10] == 11:\n",
    "        return 'Nov'\n",
    "    elif c[11] == 12:\n",
    "        return 'Dec'\n",
    "df5 = pd.DataFrame(data={'month':[1,2,3,4,5,6,7,8,9,10,11,12], 'MONTH': ['Jan', 'Feb', 'Mar', 'Apr', 'May', 'Jun', 'Jul', 'Aug', 'Sep', 'Oct', 'Nov', 'Dec']})\n",
    "# df5['MANHATTAN'] = df5.apply(MANHATTAN, axis=1)\n"
   ]
  },
  {
   "cell_type": "code",
   "execution_count": 26,
   "metadata": {
    "collapsed": true
   },
   "outputs": [],
   "source": [
    "#Merging the final dataframe\n",
    "df6= pd.DataFrame.merge(df5, df4, on='month', how='outer')"
   ]
  },
  {
   "cell_type": "code",
   "execution_count": 27,
   "metadata": {
    "collapsed": false
   },
   "outputs": [],
   "source": [
    "# Selecting the required columns\n",
    "df7 = df6[['MONTH', 'MANHATTAN', 'NYC']]"
   ]
  },
  {
   "cell_type": "code",
   "execution_count": 28,
   "metadata": {
    "collapsed": false
   },
   "outputs": [],
   "source": [
    "#Calculating and storing the percentage for Manhattan w.r.t New York for all months in 2016\n",
    "df7[\"PERCENTAGE\"] = df7['MANHATTAN']/df7['NYC']"
   ]
  },
  {
   "cell_type": "code",
   "execution_count": 29,
   "metadata": {
    "collapsed": false
   },
   "outputs": [],
   "source": [
    "df7.to_csv('vehicle_collision_new.csv')"
   ]
  },
  {
   "cell_type": "code",
   "execution_count": 30,
   "metadata": {
    "collapsed": false
   },
   "outputs": [
    {
     "data": {
      "text/html": [
       "<div>\n",
       "<table border=\"1\" class=\"dataframe\">\n",
       "  <thead>\n",
       "    <tr style=\"text-align: right;\">\n",
       "      <th></th>\n",
       "      <th>MONTH</th>\n",
       "      <th>MANHATTAN</th>\n",
       "      <th>NYC</th>\n",
       "      <th>PERCENTAGE</th>\n",
       "    </tr>\n",
       "  </thead>\n",
       "  <tbody>\n",
       "    <tr>\n",
       "      <th>0</th>\n",
       "      <td>Jan</td>\n",
       "      <td>3178</td>\n",
       "      <td>18101</td>\n",
       "      <td>0.175570</td>\n",
       "    </tr>\n",
       "    <tr>\n",
       "      <th>1</th>\n",
       "      <td>Feb</td>\n",
       "      <td>3195</td>\n",
       "      <td>15985</td>\n",
       "      <td>0.199875</td>\n",
       "    </tr>\n",
       "    <tr>\n",
       "      <th>2</th>\n",
       "      <td>Mar</td>\n",
       "      <td>3479</td>\n",
       "      <td>18471</td>\n",
       "      <td>0.188349</td>\n",
       "    </tr>\n",
       "    <tr>\n",
       "      <th>3</th>\n",
       "      <td>Apr</td>\n",
       "      <td>3540</td>\n",
       "      <td>18331</td>\n",
       "      <td>0.193115</td>\n",
       "    </tr>\n",
       "    <tr>\n",
       "      <th>4</th>\n",
       "      <td>May</td>\n",
       "      <td>3432</td>\n",
       "      <td>20052</td>\n",
       "      <td>0.171155</td>\n",
       "    </tr>\n",
       "  </tbody>\n",
       "</table>\n",
       "</div>"
      ],
      "text/plain": [
       "  MONTH  MANHATTAN    NYC  PERCENTAGE\n",
       "0   Jan       3178  18101    0.175570\n",
       "1   Feb       3195  15985    0.199875\n",
       "2   Mar       3479  18471    0.188349\n",
       "3   Apr       3540  18331    0.193115\n",
       "4   May       3432  20052    0.171155"
      ]
     },
     "execution_count": 30,
     "metadata": {},
     "output_type": "execute_result"
    }
   ],
   "source": [
    "#Finally displaying few rows of the dataframe\n",
    "df7.head()"
   ]
  }
 ],
 "metadata": {
  "kernelspec": {
   "display_name": "Python 3",
   "language": "python",
   "name": "python3"
  },
  "language_info": {
   "codemirror_mode": {
    "name": "ipython",
    "version": 3
   },
   "file_extension": ".py",
   "mimetype": "text/x-python",
   "name": "python",
   "nbconvert_exporter": "python",
   "pygments_lexer": "ipython3",
   "version": "3.6.0"
  }
 },
 "nbformat": 4,
 "nbformat_minor": 2
}
