{
 "cells": [
  {
   "cell_type": "markdown",
   "metadata": {},
   "source": [
    "# Assignment2 Question2 Part1 \n",
    "- Read all json files\n",
    "- Create folder structure for theh hierarchy\n",
    "- Create folder Data processed and store the json files in it"
   ]
  },
  {
   "cell_type": "code",
   "execution_count": 1,
   "metadata": {
    "collapsed": true
   },
   "outputs": [],
   "source": [
    "import json  # imported json\n",
    "import glob   # imported glob\n",
    "import shutil  # imported shutil\n",
    "import os   # imported os\n",
    "import csv  # imported csv\n",
    "files = glob.glob(r'C:\\sem 2\\git_python\\DataAnalysis4Python_Spring17\\DataAnalysis4Python_Spring17\\Assignment 2\\Data\\*')  # storing readeable files in a variable"
   ]
  },
  {
   "cell_type": "code",
   "execution_count": 2,
   "metadata": {
    "collapsed": false
   },
   "outputs": [],
   "source": [
    "for p in files:     #for loop to read every file of the corpus\n",
    "    with open(p, 'r') as f:   #open files\n",
    "        json_file = json.load(f)\n",
    "    c= json_file[\"location\"][\"country\"]\n",
    "    s= json_file[\"location\"][\"state\"]\n",
    "    ci= json_file[\"location\"][\"city\"]\n",
    "    t= json_file[\"term\"]  \n",
    "    file_Id= json_file[\"id\"]\n",
    "    country=\"DataProcessed\\\\\" +c\n",
    "    state=\"DataProcessed\\\\\" +c+\"\\\\\"+s\n",
    "    city=\"DataProcessed\\\\\" +c+\"\\\\\"+s+\"\\\\\"+ci\n",
    "    term=\"DataProcessed\\\\\" +c+\"\\\\\"+s+\"\\\\\"+ci+\"\\\\\"+t\n",
    "    presentcountry=os.path.isdir(country)\n",
    "    presentstate=os.path.isdir(state)\n",
    "    presentcity=os.path.isdir(city)\n",
    "    presentcategory=os.path.isdir(term)\n",
    "    if presentcountry==False:\n",
    "        os.makedirs(country)\n",
    "    if presentstate==False:\n",
    "        os.makedirs(state)    \n",
    "    if presentcity==False:\n",
    "        os.makedirs(city)\n",
    "    if presentcategory==False:\n",
    "        os.makedirs(term)\n",
    "    with open(term+\"\\\\\"+file_Id+\".json\",\"w\") as outfile:\n",
    "        json.dump(json_file, outfile)"
   ]
  }
 ],
 "metadata": {
  "anaconda-cloud": {},
  "kernelspec": {
   "display_name": "Python [conda root]",
   "language": "python",
   "name": "conda-root-py"
  },
  "language_info": {
   "codemirror_mode": {
    "name": "ipython",
    "version": 3
   },
   "file_extension": ".py",
   "mimetype": "text/x-python",
   "name": "python",
   "nbconvert_exporter": "python",
   "pygments_lexer": "ipython3",
   "version": "3.5.2"
  }
 },
 "nbformat": 4,
 "nbformat_minor": 1
}
