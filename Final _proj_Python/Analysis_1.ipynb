{
 "cells": [
  {
   "cell_type": "code",
   "execution_count": 2,
   "metadata": {
    "collapsed": true
   },
   "outputs": [],
   "source": [
    "#Weekdays on which crimes took place\n",
    "#Create a bar plot"
   ]
  },
  {
   "cell_type": "code",
   "execution_count": 3,
   "metadata": {
    "collapsed": false
   },
   "outputs": [],
   "source": [
    "import csv, time\n",
    "import numpy as np\n",
    "from datetime import datetime\n",
    "import pandas as pd\n",
    "from io import StringIO\n",
    "import matplotlib.pyplot as plt\n",
    "import seaborn as sns\n"
   ]
  },
  {
   "cell_type": "code",
   "execution_count": 4,
   "metadata": {
    "collapsed": false
   },
   "outputs": [],
   "source": [
    "crime_report = pd.read_csv('Crime_Report_Boston.csv', low_memory=False)\n"
   ]
  },
  {
   "cell_type": "code",
   "execution_count": 6,
   "metadata": {
    "collapsed": false
   },
   "outputs": [],
   "source": [
    "df4= crime_report[['COMPNOS','Year']]"
   ]
  },
  {
   "cell_type": "code",
   "execution_count": 7,
   "metadata": {
    "collapsed": false
   },
   "outputs": [
    {
     "data": {
      "text/plain": [
       "Year\n",
       "2012    43186\n",
       "2013    87052\n",
       "2014    88058\n",
       "2015    37501\n",
       "dtype: int64"
      ]
     },
     "execution_count": 7,
     "metadata": {},
     "output_type": "execute_result"
    }
   ],
   "source": [
    "#Statistics for 4 years\n",
    "df5 = df4.groupby('Year').apply(lambda x: x.COMPNOS.nunique())\n",
    "df5"
   ]
  },
  {
   "cell_type": "code",
   "execution_count": 8,
   "metadata": {
    "collapsed": true
   },
   "outputs": [],
   "source": [
    "crime_report_1 = crime_report[['INCIDENT_TYPE_DESCRIPTION', 'FROMDATE', 'WEAPONTYPE', 'Shooting', 'Year', 'Month', 'DAY_WEEK', 'STREETNAME', 'XSTREETNAME']]"
   ]
  },
  {
   "cell_type": "code",
   "execution_count": 10,
   "metadata": {
    "collapsed": false,
    "scrolled": true
   },
   "outputs": [
    {
     "name": "stderr",
     "output_type": "stream",
     "text": [
      "C:\\Users\\Shephali Mahajan\\Anaconda3\\lib\\site-packages\\pandas\\core\\generic.py:2773: SettingWithCopyWarning: \n",
      "A value is trying to be set on a copy of a slice from a DataFrame.\n",
      "Try using .loc[row_indexer,col_indexer] = value instead\n",
      "\n",
      "See the caveats in the documentation: http://pandas.pydata.org/pandas-docs/stable/indexing.html#indexing-view-versus-copy\n",
      "  self[name] = value\n",
      "C:\\Users\\Shephali Mahajan\\Anaconda3\\lib\\site-packages\\ipykernel\\__main__.py:2: SettingWithCopyWarning: \n",
      "A value is trying to be set on a copy of a slice from a DataFrame.\n",
      "Try using .loc[row_indexer,col_indexer] = value instead\n",
      "\n",
      "See the caveats in the documentation: http://pandas.pydata.org/pandas-docs/stable/indexing.html#indexing-view-versus-copy\n",
      "  from ipykernel import kernelapp as app\n"
     ]
    },
    {
     "data": {
      "text/html": [
       "<div>\n",
       "<table border=\"1\" class=\"dataframe\">\n",
       "  <thead>\n",
       "    <tr style=\"text-align: right;\">\n",
       "      <th></th>\n",
       "      <th>INCIDENT_TYPE_DESCRIPTION</th>\n",
       "      <th>FROMDATE</th>\n",
       "      <th>WEAPONTYPE</th>\n",
       "      <th>Shooting</th>\n",
       "      <th>Year</th>\n",
       "      <th>Month</th>\n",
       "      <th>DAY_WEEK</th>\n",
       "      <th>STREETNAME</th>\n",
       "      <th>XSTREETNAME</th>\n",
       "      <th>time_only</th>\n",
       "    </tr>\n",
       "  </thead>\n",
       "  <tbody>\n",
       "    <tr>\n",
       "      <th>0</th>\n",
       "      <td>RESIDENTIAL BURGLARY</td>\n",
       "      <td>2012-07-08 06:00:00</td>\n",
       "      <td>Other</td>\n",
       "      <td>No</td>\n",
       "      <td>2012</td>\n",
       "      <td>7</td>\n",
       "      <td>Sunday</td>\n",
       "      <td>ABERDEEN ST</td>\n",
       "      <td>NaN</td>\n",
       "      <td>06:00:00</td>\n",
       "    </tr>\n",
       "    <tr>\n",
       "      <th>1</th>\n",
       "      <td>AGGRAVATED ASSAULT</td>\n",
       "      <td>2012-07-08 06:03:00</td>\n",
       "      <td>Firearm</td>\n",
       "      <td>Yes</td>\n",
       "      <td>2012</td>\n",
       "      <td>7</td>\n",
       "      <td>Sunday</td>\n",
       "      <td>HOWARD AV</td>\n",
       "      <td>NaN</td>\n",
       "      <td>06:03:00</td>\n",
       "    </tr>\n",
       "    <tr>\n",
       "      <th>2</th>\n",
       "      <td>ROBBERY</td>\n",
       "      <td>2012-07-08 06:26:00</td>\n",
       "      <td>Firearm</td>\n",
       "      <td>No</td>\n",
       "      <td>2012</td>\n",
       "      <td>7</td>\n",
       "      <td>Sunday</td>\n",
       "      <td>JERSEY ST</td>\n",
       "      <td>QUEENSBERRY ST</td>\n",
       "      <td>06:26:00</td>\n",
       "    </tr>\n",
       "    <tr>\n",
       "      <th>3</th>\n",
       "      <td>COMMERCIAL BURGLARY</td>\n",
       "      <td>2012-07-08 06:56:00</td>\n",
       "      <td>Other</td>\n",
       "      <td>No</td>\n",
       "      <td>2012</td>\n",
       "      <td>7</td>\n",
       "      <td>Sunday</td>\n",
       "      <td>COLUMBIA RD</td>\n",
       "      <td>NaN</td>\n",
       "      <td>06:56:00</td>\n",
       "    </tr>\n",
       "    <tr>\n",
       "      <th>4</th>\n",
       "      <td>ROBBERY</td>\n",
       "      <td>2012-07-08 07:15:00</td>\n",
       "      <td>Firearm</td>\n",
       "      <td>No</td>\n",
       "      <td>2012</td>\n",
       "      <td>7</td>\n",
       "      <td>Sunday</td>\n",
       "      <td>COLLINS ST</td>\n",
       "      <td>NaN</td>\n",
       "      <td>07:15:00</td>\n",
       "    </tr>\n",
       "  </tbody>\n",
       "</table>\n",
       "</div>"
      ],
      "text/plain": [
       "  INCIDENT_TYPE_DESCRIPTION            FROMDATE WEAPONTYPE Shooting  Year  \\\n",
       "0      RESIDENTIAL BURGLARY 2012-07-08 06:00:00      Other       No  2012   \n",
       "1        AGGRAVATED ASSAULT 2012-07-08 06:03:00    Firearm      Yes  2012   \n",
       "2                   ROBBERY 2012-07-08 06:26:00    Firearm       No  2012   \n",
       "3       COMMERCIAL BURGLARY 2012-07-08 06:56:00      Other       No  2012   \n",
       "4                   ROBBERY 2012-07-08 07:15:00    Firearm       No  2012   \n",
       "\n",
       "   Month DAY_WEEK   STREETNAME     XSTREETNAME time_only  \n",
       "0      7   Sunday  ABERDEEN ST             NaN  06:00:00  \n",
       "1      7   Sunday    HOWARD AV             NaN  06:03:00  \n",
       "2      7   Sunday    JERSEY ST  QUEENSBERRY ST  06:26:00  \n",
       "3      7   Sunday  COLUMBIA RD             NaN  06:56:00  \n",
       "4      7   Sunday   COLLINS ST             NaN  07:15:00  "
      ]
     },
     "execution_count": 10,
     "metadata": {},
     "output_type": "execute_result"
    }
   ],
   "source": [
    "crime_report_1.FROMDATE = pd.to_datetime(crime_report_1.FROMDATE)\n",
    "crime_report_1['time_only'] = [x.time() for x in crime_report_1['FROMDATE']]\n",
    "# crime_report_1.head()"
   ]
  },
  {
   "cell_type": "code",
   "execution_count": 11,
   "metadata": {
    "collapsed": false
   },
   "outputs": [],
   "source": [
    "df= crime_report_1[['time_only']]\n",
    "# df1 = pd.DataFrame(df.time_only.str.split(':',2).tolist(),\n",
    "#                                    columns = ['hour'])"
   ]
  },
  {
   "cell_type": "code",
   "execution_count": 12,
   "metadata": {
    "collapsed": false
   },
   "outputs": [
    {
     "name": "stderr",
     "output_type": "stream",
     "text": [
      "C:\\Users\\Shephali Mahajan\\Anaconda3\\lib\\site-packages\\ipykernel\\__main__.py:1: FutureWarning: convert_objects is deprecated.  Use the data-type specific converters pd.to_datetime, pd.to_timedelta and pd.to_numeric.\n",
      "  if __name__ == '__main__':\n",
      "C:\\Users\\Shephali Mahajan\\Anaconda3\\lib\\site-packages\\ipykernel\\__main__.py:1: SettingWithCopyWarning: \n",
      "A value is trying to be set on a copy of a slice from a DataFrame.\n",
      "Try using .loc[row_indexer,col_indexer] = value instead\n",
      "\n",
      "See the caveats in the documentation: http://pandas.pydata.org/pandas-docs/stable/indexing.html#indexing-view-versus-copy\n",
      "  if __name__ == '__main__':\n"
     ]
    }
   ],
   "source": [
    "crime_report_1['time'] = crime_report_1['time_only'].astype(str).convert_objects(convert_numeric=True)"
   ]
  },
  {
   "cell_type": "code",
   "execution_count": 13,
   "metadata": {
    "collapsed": false
   },
   "outputs": [
    {
     "name": "stderr",
     "output_type": "stream",
     "text": [
      "C:\\Users\\Shephali Mahajan\\Anaconda3\\lib\\site-packages\\ipykernel\\__main__.py:1: SettingWithCopyWarning: \n",
      "A value is trying to be set on a copy of a slice from a DataFrame.\n",
      "Try using .loc[row_indexer,col_indexer] = value instead\n",
      "\n",
      "See the caveats in the documentation: http://pandas.pydata.org/pandas-docs/stable/indexing.html#indexing-view-versus-copy\n",
      "  if __name__ == '__main__':\n"
     ]
    }
   ],
   "source": [
    "crime_report_1['Hour'], crime_report_1['Minutes'], crime_report_1['Seconds'] = zip(*crime_report_1['time'].apply(lambda x: x.split(':', 3)))"
   ]
  },
  {
   "cell_type": "code",
   "execution_count": 14,
   "metadata": {
    "collapsed": false
   },
   "outputs": [
    {
     "data": {
      "text/html": [
       "<div>\n",
       "<table border=\"1\" class=\"dataframe\">\n",
       "  <thead>\n",
       "    <tr style=\"text-align: right;\">\n",
       "      <th></th>\n",
       "      <th>INCIDENT_TYPE_DESCRIPTION</th>\n",
       "      <th>FROMDATE</th>\n",
       "      <th>WEAPONTYPE</th>\n",
       "      <th>Shooting</th>\n",
       "      <th>Year</th>\n",
       "      <th>Month</th>\n",
       "      <th>DAY_WEEK</th>\n",
       "      <th>STREETNAME</th>\n",
       "      <th>XSTREETNAME</th>\n",
       "      <th>time_only</th>\n",
       "      <th>time</th>\n",
       "      <th>Hour</th>\n",
       "      <th>Minutes</th>\n",
       "      <th>Seconds</th>\n",
       "    </tr>\n",
       "  </thead>\n",
       "  <tbody>\n",
       "    <tr>\n",
       "      <th>0</th>\n",
       "      <td>RESIDENTIAL BURGLARY</td>\n",
       "      <td>2012-07-08 06:00:00</td>\n",
       "      <td>Other</td>\n",
       "      <td>No</td>\n",
       "      <td>2012</td>\n",
       "      <td>7</td>\n",
       "      <td>Sunday</td>\n",
       "      <td>ABERDEEN ST</td>\n",
       "      <td>NaN</td>\n",
       "      <td>06:00:00</td>\n",
       "      <td>06:00:00</td>\n",
       "      <td>06</td>\n",
       "      <td>00</td>\n",
       "      <td>00</td>\n",
       "    </tr>\n",
       "    <tr>\n",
       "      <th>1</th>\n",
       "      <td>AGGRAVATED ASSAULT</td>\n",
       "      <td>2012-07-08 06:03:00</td>\n",
       "      <td>Firearm</td>\n",
       "      <td>Yes</td>\n",
       "      <td>2012</td>\n",
       "      <td>7</td>\n",
       "      <td>Sunday</td>\n",
       "      <td>HOWARD AV</td>\n",
       "      <td>NaN</td>\n",
       "      <td>06:03:00</td>\n",
       "      <td>06:03:00</td>\n",
       "      <td>06</td>\n",
       "      <td>03</td>\n",
       "      <td>00</td>\n",
       "    </tr>\n",
       "    <tr>\n",
       "      <th>2</th>\n",
       "      <td>ROBBERY</td>\n",
       "      <td>2012-07-08 06:26:00</td>\n",
       "      <td>Firearm</td>\n",
       "      <td>No</td>\n",
       "      <td>2012</td>\n",
       "      <td>7</td>\n",
       "      <td>Sunday</td>\n",
       "      <td>JERSEY ST</td>\n",
       "      <td>QUEENSBERRY ST</td>\n",
       "      <td>06:26:00</td>\n",
       "      <td>06:26:00</td>\n",
       "      <td>06</td>\n",
       "      <td>26</td>\n",
       "      <td>00</td>\n",
       "    </tr>\n",
       "    <tr>\n",
       "      <th>3</th>\n",
       "      <td>COMMERCIAL BURGLARY</td>\n",
       "      <td>2012-07-08 06:56:00</td>\n",
       "      <td>Other</td>\n",
       "      <td>No</td>\n",
       "      <td>2012</td>\n",
       "      <td>7</td>\n",
       "      <td>Sunday</td>\n",
       "      <td>COLUMBIA RD</td>\n",
       "      <td>NaN</td>\n",
       "      <td>06:56:00</td>\n",
       "      <td>06:56:00</td>\n",
       "      <td>06</td>\n",
       "      <td>56</td>\n",
       "      <td>00</td>\n",
       "    </tr>\n",
       "    <tr>\n",
       "      <th>4</th>\n",
       "      <td>ROBBERY</td>\n",
       "      <td>2012-07-08 07:15:00</td>\n",
       "      <td>Firearm</td>\n",
       "      <td>No</td>\n",
       "      <td>2012</td>\n",
       "      <td>7</td>\n",
       "      <td>Sunday</td>\n",
       "      <td>COLLINS ST</td>\n",
       "      <td>NaN</td>\n",
       "      <td>07:15:00</td>\n",
       "      <td>07:15:00</td>\n",
       "      <td>07</td>\n",
       "      <td>15</td>\n",
       "      <td>00</td>\n",
       "    </tr>\n",
       "  </tbody>\n",
       "</table>\n",
       "</div>"
      ],
      "text/plain": [
       "  INCIDENT_TYPE_DESCRIPTION            FROMDATE WEAPONTYPE Shooting  Year  \\\n",
       "0      RESIDENTIAL BURGLARY 2012-07-08 06:00:00      Other       No  2012   \n",
       "1        AGGRAVATED ASSAULT 2012-07-08 06:03:00    Firearm      Yes  2012   \n",
       "2                   ROBBERY 2012-07-08 06:26:00    Firearm       No  2012   \n",
       "3       COMMERCIAL BURGLARY 2012-07-08 06:56:00      Other       No  2012   \n",
       "4                   ROBBERY 2012-07-08 07:15:00    Firearm       No  2012   \n",
       "\n",
       "   Month DAY_WEEK   STREETNAME     XSTREETNAME time_only      time Hour  \\\n",
       "0      7   Sunday  ABERDEEN ST             NaN  06:00:00  06:00:00   06   \n",
       "1      7   Sunday    HOWARD AV             NaN  06:03:00  06:03:00   06   \n",
       "2      7   Sunday    JERSEY ST  QUEENSBERRY ST  06:26:00  06:26:00   06   \n",
       "3      7   Sunday  COLUMBIA RD             NaN  06:56:00  06:56:00   06   \n",
       "4      7   Sunday   COLLINS ST             NaN  07:15:00  07:15:00   07   \n",
       "\n",
       "  Minutes Seconds  \n",
       "0      00      00  \n",
       "1      03      00  \n",
       "2      26      00  \n",
       "3      56      00  \n",
       "4      15      00  "
      ]
     },
     "execution_count": 14,
     "metadata": {},
     "output_type": "execute_result"
    }
   ],
   "source": [
    "crime_report_1.head()"
   ]
  },
  {
   "cell_type": "code",
   "execution_count": 15,
   "metadata": {
    "collapsed": false
   },
   "outputs": [],
   "source": [
    "df1 = crime_report_1[['INCIDENT_TYPE_DESCRIPTION','STREETNAME', 'Hour']]"
   ]
  },
  {
   "cell_type": "code",
   "execution_count": 16,
   "metadata": {
    "collapsed": false
   },
   "outputs": [
    {
     "name": "stderr",
     "output_type": "stream",
     "text": [
      "C:\\Users\\Shephali Mahajan\\Anaconda3\\lib\\site-packages\\ipykernel\\__main__.py:1: SettingWithCopyWarning: \n",
      "A value is trying to be set on a copy of a slice from a DataFrame.\n",
      "Try using .loc[row_indexer,col_indexer] = value instead\n",
      "\n",
      "See the caveats in the documentation: http://pandas.pydata.org/pandas-docs/stable/indexing.html#indexing-view-versus-copy\n",
      "  if __name__ == '__main__':\n"
     ]
    }
   ],
   "source": [
    "df1['Hour'] = df1['Hour'].astype('int64')"
   ]
  },
  {
   "cell_type": "code",
   "execution_count": 17,
   "metadata": {
    "collapsed": false
   },
   "outputs": [],
   "source": [
    "df1 = df1.groupby(['INCIDENT_TYPE_DESCRIPTION','STREETNAME'], as_index= False)"
   ]
  },
  {
   "cell_type": "code",
   "execution_count": 18,
   "metadata": {
    "collapsed": false,
    "scrolled": true
   },
   "outputs": [
    {
     "data": {
      "text/html": [
       "<div>\n",
       "<table border=\"1\" class=\"dataframe\">\n",
       "  <thead>\n",
       "    <tr style=\"text-align: right;\">\n",
       "      <th></th>\n",
       "      <th>INCIDENT_TYPE_DESCRIPTION</th>\n",
       "      <th>STREETNAME</th>\n",
       "      <th>Hour</th>\n",
       "    </tr>\n",
       "  </thead>\n",
       "  <tbody>\n",
       "    <tr>\n",
       "      <th>0</th>\n",
       "      <td>RESIDENTIAL BURGLARY</td>\n",
       "      <td>ABERDEEN ST</td>\n",
       "      <td>6</td>\n",
       "    </tr>\n",
       "    <tr>\n",
       "      <th>1</th>\n",
       "      <td>AGGRAVATED ASSAULT</td>\n",
       "      <td>HOWARD AV</td>\n",
       "      <td>6</td>\n",
       "    </tr>\n",
       "    <tr>\n",
       "      <th>2</th>\n",
       "      <td>ROBBERY</td>\n",
       "      <td>JERSEY ST</td>\n",
       "      <td>6</td>\n",
       "    </tr>\n",
       "    <tr>\n",
       "      <th>3</th>\n",
       "      <td>COMMERCIAL BURGLARY</td>\n",
       "      <td>COLUMBIA RD</td>\n",
       "      <td>6</td>\n",
       "    </tr>\n",
       "    <tr>\n",
       "      <th>4</th>\n",
       "      <td>ROBBERY</td>\n",
       "      <td>COLLINS ST</td>\n",
       "      <td>7</td>\n",
       "    </tr>\n",
       "    <tr>\n",
       "      <th>5</th>\n",
       "      <td>ROBBERY</td>\n",
       "      <td>SYDNEY ST</td>\n",
       "      <td>7</td>\n",
       "    </tr>\n",
       "    <tr>\n",
       "      <th>6</th>\n",
       "      <td>ROBBERY</td>\n",
       "      <td>REGENT ST</td>\n",
       "      <td>7</td>\n",
       "    </tr>\n",
       "    <tr>\n",
       "      <th>7</th>\n",
       "      <td>SIMPLE ASSAULT</td>\n",
       "      <td>WASHINGTON ST</td>\n",
       "      <td>7</td>\n",
       "    </tr>\n",
       "    <tr>\n",
       "      <th>8</th>\n",
       "      <td>MedAssist</td>\n",
       "      <td>FANEUIL ST</td>\n",
       "      <td>7</td>\n",
       "    </tr>\n",
       "    <tr>\n",
       "      <th>9</th>\n",
       "      <td>MedAssist</td>\n",
       "      <td>RIVER ST</td>\n",
       "      <td>8</td>\n",
       "    </tr>\n",
       "    <tr>\n",
       "      <th>10</th>\n",
       "      <td>BENoProp</td>\n",
       "      <td>PARK DR</td>\n",
       "      <td>8</td>\n",
       "    </tr>\n",
       "    <tr>\n",
       "      <th>11</th>\n",
       "      <td>VAL</td>\n",
       "      <td>SAVIN HILL AV</td>\n",
       "      <td>8</td>\n",
       "    </tr>\n",
       "    <tr>\n",
       "      <th>12</th>\n",
       "      <td>FRAUD</td>\n",
       "      <td>WASHINGTON ST</td>\n",
       "      <td>9</td>\n",
       "    </tr>\n",
       "    <tr>\n",
       "      <th>13</th>\n",
       "      <td>PropFound</td>\n",
       "      <td>MASSACHUSETTS AV</td>\n",
       "      <td>9</td>\n",
       "    </tr>\n",
       "    <tr>\n",
       "      <th>14</th>\n",
       "      <td>InvPer</td>\n",
       "      <td>CHAMPNEY PL</td>\n",
       "      <td>9</td>\n",
       "    </tr>\n",
       "    <tr>\n",
       "      <th>15</th>\n",
       "      <td>TOWED</td>\n",
       "      <td>COREY RD</td>\n",
       "      <td>9</td>\n",
       "    </tr>\n",
       "    <tr>\n",
       "      <th>16</th>\n",
       "      <td>VAL</td>\n",
       "      <td>COMMERCIAL ST</td>\n",
       "      <td>9</td>\n",
       "    </tr>\n",
       "    <tr>\n",
       "      <th>17</th>\n",
       "      <td>TOWED</td>\n",
       "      <td>E 3RD ST</td>\n",
       "      <td>9</td>\n",
       "    </tr>\n",
       "    <tr>\n",
       "      <th>18</th>\n",
       "      <td>WEAPONS CHARGE</td>\n",
       "      <td>WARREN ST</td>\n",
       "      <td>9</td>\n",
       "    </tr>\n",
       "    <tr>\n",
       "      <th>19</th>\n",
       "      <td>InvProp</td>\n",
       "      <td>CAMDEN ST</td>\n",
       "      <td>10</td>\n",
       "    </tr>\n",
       "    <tr>\n",
       "      <th>20</th>\n",
       "      <td>MedAssist</td>\n",
       "      <td>WARREN ST</td>\n",
       "      <td>10</td>\n",
       "    </tr>\n",
       "    <tr>\n",
       "      <th>21</th>\n",
       "      <td>InvPer</td>\n",
       "      <td>WOODBINE ST</td>\n",
       "      <td>10</td>\n",
       "    </tr>\n",
       "    <tr>\n",
       "      <th>22</th>\n",
       "      <td>DRUG CHARGES</td>\n",
       "      <td>WASHINGTON ST</td>\n",
       "      <td>10</td>\n",
       "    </tr>\n",
       "    <tr>\n",
       "      <th>23</th>\n",
       "      <td>VAL</td>\n",
       "      <td>BLUE HILL AV</td>\n",
       "      <td>10</td>\n",
       "    </tr>\n",
       "    <tr>\n",
       "      <th>24</th>\n",
       "      <td>WEAPONS CHARGE</td>\n",
       "      <td>COMMONWEALTH AV</td>\n",
       "      <td>10</td>\n",
       "    </tr>\n",
       "    <tr>\n",
       "      <th>25</th>\n",
       "      <td>VAL</td>\n",
       "      <td>AMERICAN LEGION HY</td>\n",
       "      <td>10</td>\n",
       "    </tr>\n",
       "    <tr>\n",
       "      <th>26</th>\n",
       "      <td>SIMPLE ASSAULT</td>\n",
       "      <td>NORTHAMPTON ST</td>\n",
       "      <td>11</td>\n",
       "    </tr>\n",
       "    <tr>\n",
       "      <th>27</th>\n",
       "      <td>RESIDENTIAL BURGLARY</td>\n",
       "      <td>CATBIRD COURT</td>\n",
       "      <td>11</td>\n",
       "    </tr>\n",
       "    <tr>\n",
       "      <th>28</th>\n",
       "      <td>VAL</td>\n",
       "      <td>BULLARD ST</td>\n",
       "      <td>11</td>\n",
       "    </tr>\n",
       "    <tr>\n",
       "      <th>29</th>\n",
       "      <td>PersLoc</td>\n",
       "      <td>ANDRIA RD</td>\n",
       "      <td>11</td>\n",
       "    </tr>\n",
       "    <tr>\n",
       "      <th>...</th>\n",
       "      <td>...</td>\n",
       "      <td>...</td>\n",
       "      <td>...</td>\n",
       "    </tr>\n",
       "    <tr>\n",
       "      <th>268019</th>\n",
       "      <td>Motor Vehicle Accident Response</td>\n",
       "      <td>ANTHONY RIP VALENTI WAY</td>\n",
       "      <td>8</td>\n",
       "    </tr>\n",
       "    <tr>\n",
       "      <th>268023</th>\n",
       "      <td>Robbery</td>\n",
       "      <td>FOTTLER RD</td>\n",
       "      <td>14</td>\n",
       "    </tr>\n",
       "    <tr>\n",
       "      <th>268024</th>\n",
       "      <td>Motor Vehicle Accident Response</td>\n",
       "      <td>ARLINGTON ST</td>\n",
       "      <td>15</td>\n",
       "    </tr>\n",
       "    <tr>\n",
       "      <th>268025</th>\n",
       "      <td>Towed</td>\n",
       "      <td>BOYLSTON ST</td>\n",
       "      <td>16</td>\n",
       "    </tr>\n",
       "    <tr>\n",
       "      <th>268026</th>\n",
       "      <td>Warrant Arrests</td>\n",
       "      <td>COLUMBIA RD</td>\n",
       "      <td>17</td>\n",
       "    </tr>\n",
       "    <tr>\n",
       "      <th>268027</th>\n",
       "      <td>Missing Person Reported</td>\n",
       "      <td>HUNTINGTON AVE</td>\n",
       "      <td>18</td>\n",
       "    </tr>\n",
       "    <tr>\n",
       "      <th>268028</th>\n",
       "      <td>Missing Person Reported</td>\n",
       "      <td>HUNTINGTON AVE</td>\n",
       "      <td>20</td>\n",
       "    </tr>\n",
       "    <tr>\n",
       "      <th>268029</th>\n",
       "      <td>Operating Under the Influence</td>\n",
       "      <td>COLUMBIA RD</td>\n",
       "      <td>20</td>\n",
       "    </tr>\n",
       "    <tr>\n",
       "      <th>268030</th>\n",
       "      <td>Simple Assault</td>\n",
       "      <td>SAINT RICHARD ST</td>\n",
       "      <td>21</td>\n",
       "    </tr>\n",
       "    <tr>\n",
       "      <th>268031</th>\n",
       "      <td>Liquor Violation</td>\n",
       "      <td>CENTRE ST</td>\n",
       "      <td>21</td>\n",
       "    </tr>\n",
       "    <tr>\n",
       "      <th>268032</th>\n",
       "      <td>Ballistics</td>\n",
       "      <td>COLUMBIA RD</td>\n",
       "      <td>21</td>\n",
       "    </tr>\n",
       "    <tr>\n",
       "      <th>268033</th>\n",
       "      <td>Missing Person Reported</td>\n",
       "      <td>BUSINESS ST</td>\n",
       "      <td>0</td>\n",
       "    </tr>\n",
       "    <tr>\n",
       "      <th>268035</th>\n",
       "      <td>Motor Vehicle Accident Response</td>\n",
       "      <td>PLEASANT ST</td>\n",
       "      <td>0</td>\n",
       "    </tr>\n",
       "    <tr>\n",
       "      <th>268037</th>\n",
       "      <td>Recovered Stolen Property</td>\n",
       "      <td>ESSEX ST</td>\n",
       "      <td>0</td>\n",
       "    </tr>\n",
       "    <tr>\n",
       "      <th>268038</th>\n",
       "      <td>Property Lost</td>\n",
       "      <td>KNEELAND ST</td>\n",
       "      <td>0</td>\n",
       "    </tr>\n",
       "    <tr>\n",
       "      <th>268039</th>\n",
       "      <td>Towed</td>\n",
       "      <td>CRESTHILL RD</td>\n",
       "      <td>0</td>\n",
       "    </tr>\n",
       "    <tr>\n",
       "      <th>268040</th>\n",
       "      <td>Residential Burglary</td>\n",
       "      <td>O ST</td>\n",
       "      <td>0</td>\n",
       "    </tr>\n",
       "    <tr>\n",
       "      <th>268041</th>\n",
       "      <td>Simple Assault</td>\n",
       "      <td>RUSSELL ST</td>\n",
       "      <td>0</td>\n",
       "    </tr>\n",
       "    <tr>\n",
       "      <th>268042</th>\n",
       "      <td>Investigate Person</td>\n",
       "      <td>OLD COLONY AVE</td>\n",
       "      <td>0</td>\n",
       "    </tr>\n",
       "    <tr>\n",
       "      <th>268043</th>\n",
       "      <td>Investigate Person</td>\n",
       "      <td>BROOKLINE AVE</td>\n",
       "      <td>0</td>\n",
       "    </tr>\n",
       "    <tr>\n",
       "      <th>268044</th>\n",
       "      <td>Verbal Disputes</td>\n",
       "      <td>TIBBETT'S TOWN</td>\n",
       "      <td>0</td>\n",
       "    </tr>\n",
       "    <tr>\n",
       "      <th>268045</th>\n",
       "      <td>Medical Assistance</td>\n",
       "      <td>WOODWARD AVE</td>\n",
       "      <td>0</td>\n",
       "    </tr>\n",
       "    <tr>\n",
       "      <th>268046</th>\n",
       "      <td>Motor Vehicle Accident Response</td>\n",
       "      <td>EDWIN ST</td>\n",
       "      <td>0</td>\n",
       "    </tr>\n",
       "    <tr>\n",
       "      <th>268047</th>\n",
       "      <td>Aggravated Assault</td>\n",
       "      <td>FRANKLIN ST</td>\n",
       "      <td>0</td>\n",
       "    </tr>\n",
       "    <tr>\n",
       "      <th>268048</th>\n",
       "      <td>Towed</td>\n",
       "      <td>ERIE ST</td>\n",
       "      <td>1</td>\n",
       "    </tr>\n",
       "    <tr>\n",
       "      <th>268049</th>\n",
       "      <td>Ballistics</td>\n",
       "      <td>LINVALE TER</td>\n",
       "      <td>2</td>\n",
       "    </tr>\n",
       "    <tr>\n",
       "      <th>268050</th>\n",
       "      <td>Motor Vehicle Accident Response</td>\n",
       "      <td>BROAD ST</td>\n",
       "      <td>2</td>\n",
       "    </tr>\n",
       "    <tr>\n",
       "      <th>268052</th>\n",
       "      <td>Police Service Incidents</td>\n",
       "      <td>DORCHESTER AVE</td>\n",
       "      <td>4</td>\n",
       "    </tr>\n",
       "    <tr>\n",
       "      <th>268053</th>\n",
       "      <td>Motor Vehicle Accident Response</td>\n",
       "      <td>DECKARD ST</td>\n",
       "      <td>4</td>\n",
       "    </tr>\n",
       "    <tr>\n",
       "      <th>268054</th>\n",
       "      <td>Investigate Person</td>\n",
       "      <td>HAMMOND ST</td>\n",
       "      <td>5</td>\n",
       "    </tr>\n",
       "  </tbody>\n",
       "</table>\n",
       "<p>122751 rows × 3 columns</p>\n",
       "</div>"
      ],
      "text/plain": [
       "              INCIDENT_TYPE_DESCRIPTION               STREETNAME  Hour\n",
       "0                  RESIDENTIAL BURGLARY              ABERDEEN ST     6\n",
       "1                    AGGRAVATED ASSAULT                HOWARD AV     6\n",
       "2                               ROBBERY                JERSEY ST     6\n",
       "3                   COMMERCIAL BURGLARY              COLUMBIA RD     6\n",
       "4                               ROBBERY               COLLINS ST     7\n",
       "5                               ROBBERY                SYDNEY ST     7\n",
       "6                               ROBBERY                REGENT ST     7\n",
       "7                        SIMPLE ASSAULT            WASHINGTON ST     7\n",
       "8                             MedAssist               FANEUIL ST     7\n",
       "9                             MedAssist                 RIVER ST     8\n",
       "10                             BENoProp                  PARK DR     8\n",
       "11                                  VAL            SAVIN HILL AV     8\n",
       "12                                FRAUD            WASHINGTON ST     9\n",
       "13                            PropFound         MASSACHUSETTS AV     9\n",
       "14                               InvPer              CHAMPNEY PL     9\n",
       "15                                TOWED                 COREY RD     9\n",
       "16                                  VAL            COMMERCIAL ST     9\n",
       "17                                TOWED                 E 3RD ST     9\n",
       "18                       WEAPONS CHARGE                WARREN ST     9\n",
       "19                              InvProp                CAMDEN ST    10\n",
       "20                            MedAssist                WARREN ST    10\n",
       "21                               InvPer              WOODBINE ST    10\n",
       "22                         DRUG CHARGES            WASHINGTON ST    10\n",
       "23                                  VAL             BLUE HILL AV    10\n",
       "24                       WEAPONS CHARGE          COMMONWEALTH AV    10\n",
       "25                                  VAL       AMERICAN LEGION HY    10\n",
       "26                       SIMPLE ASSAULT           NORTHAMPTON ST    11\n",
       "27                 RESIDENTIAL BURGLARY            CATBIRD COURT    11\n",
       "28                                  VAL               BULLARD ST    11\n",
       "29                              PersLoc                ANDRIA RD    11\n",
       "...                                 ...                      ...   ...\n",
       "268019  Motor Vehicle Accident Response  ANTHONY RIP VALENTI WAY     8\n",
       "268023                          Robbery               FOTTLER RD    14\n",
       "268024  Motor Vehicle Accident Response             ARLINGTON ST    15\n",
       "268025                            Towed              BOYLSTON ST    16\n",
       "268026                  Warrant Arrests              COLUMBIA RD    17\n",
       "268027          Missing Person Reported           HUNTINGTON AVE    18\n",
       "268028          Missing Person Reported           HUNTINGTON AVE    20\n",
       "268029    Operating Under the Influence              COLUMBIA RD    20\n",
       "268030                   Simple Assault         SAINT RICHARD ST    21\n",
       "268031                 Liquor Violation                CENTRE ST    21\n",
       "268032                       Ballistics              COLUMBIA RD    21\n",
       "268033          Missing Person Reported              BUSINESS ST     0\n",
       "268035  Motor Vehicle Accident Response              PLEASANT ST     0\n",
       "268037        Recovered Stolen Property                 ESSEX ST     0\n",
       "268038                    Property Lost              KNEELAND ST     0\n",
       "268039                            Towed             CRESTHILL RD     0\n",
       "268040             Residential Burglary                     O ST     0\n",
       "268041                   Simple Assault               RUSSELL ST     0\n",
       "268042               Investigate Person           OLD COLONY AVE     0\n",
       "268043               Investigate Person            BROOKLINE AVE     0\n",
       "268044                  Verbal Disputes           TIBBETT'S TOWN     0\n",
       "268045               Medical Assistance             WOODWARD AVE     0\n",
       "268046  Motor Vehicle Accident Response                 EDWIN ST     0\n",
       "268047               Aggravated Assault              FRANKLIN ST     0\n",
       "268048                            Towed                  ERIE ST     1\n",
       "268049                       Ballistics              LINVALE TER     2\n",
       "268050  Motor Vehicle Accident Response                 BROAD ST     2\n",
       "268052         Police Service Incidents           DORCHESTER AVE     4\n",
       "268053  Motor Vehicle Accident Response               DECKARD ST     4\n",
       "268054               Investigate Person               HAMMOND ST     5\n",
       "\n",
       "[122751 rows x 3 columns]"
      ]
     },
     "execution_count": 18,
     "metadata": {},
     "output_type": "execute_result"
    }
   ],
   "source": [
    "df1.head(5)"
   ]
  },
  {
   "cell_type": "code",
   "execution_count": 19,
   "metadata": {
    "collapsed": true
   },
   "outputs": [],
   "source": [
    "df2 = df1 [['STREETNAME', 'Hour']]"
   ]
  },
  {
   "cell_type": "code",
   "execution_count": 41,
   "metadata": {
    "collapsed": false
   },
   "outputs": [
    {
     "data": {
      "text/plain": [
       "<matplotlib.figure.Figure at 0x2c3d2a3d2e8>"
      ]
     },
     "execution_count": 41,
     "metadata": {},
     "output_type": "execute_result"
    }
   ],
   "source": [
    "plt.figure(figsize=(25,20))"
   ]
  },
  {
   "cell_type": "code",
   "execution_count": 42,
   "metadata": {
    "collapsed": true
   },
   "outputs": [],
   "source": [
    "sns.set_context(\"poster\",)"
   ]
  },
  {
   "cell_type": "code",
   "execution_count": 43,
   "metadata": {
    "collapsed": false
   },
   "outputs": [],
   "source": [
    "ax1=plt.subplot2grid((2,1),(0,0))"
   ]
  },
  {
   "cell_type": "code",
   "execution_count": 44,
   "metadata": {
    "collapsed": false
   },
   "outputs": [
    {
     "data": {
      "text/html": [
       "<div>\n",
       "<table border=\"1\" class=\"dataframe\">\n",
       "  <thead>\n",
       "    <tr style=\"text-align: right;\">\n",
       "      <th></th>\n",
       "      <th>DAY_WEEK</th>\n",
       "    </tr>\n",
       "  </thead>\n",
       "  <tbody>\n",
       "    <tr>\n",
       "      <th>Friday</th>\n",
       "      <td>42031</td>\n",
       "    </tr>\n",
       "    <tr>\n",
       "      <th>Thursday</th>\n",
       "      <td>38627</td>\n",
       "    </tr>\n",
       "    <tr>\n",
       "      <th>Saturday</th>\n",
       "      <td>38446</td>\n",
       "    </tr>\n",
       "    <tr>\n",
       "      <th>Wednesday</th>\n",
       "      <td>38392</td>\n",
       "    </tr>\n",
       "    <tr>\n",
       "      <th>Monday</th>\n",
       "      <td>38256</td>\n",
       "    </tr>\n",
       "    <tr>\n",
       "      <th>Tuesday</th>\n",
       "      <td>37911</td>\n",
       "    </tr>\n",
       "    <tr>\n",
       "      <th>Sunday</th>\n",
       "      <td>34393</td>\n",
       "    </tr>\n",
       "  </tbody>\n",
       "</table>\n",
       "</div>"
      ],
      "text/plain": [
       "           DAY_WEEK\n",
       "Friday        42031\n",
       "Thursday      38627\n",
       "Saturday      38446\n",
       "Wednesday     38392\n",
       "Monday        38256\n",
       "Tuesday       37911\n",
       "Sunday        34393"
      ]
     },
     "execution_count": 44,
     "metadata": {},
     "output_type": "execute_result"
    }
   ],
   "source": [
    "WeeklyData = pd.DataFrame(crime_report_1[\"DAY_WEEK\"].value_counts())\n",
    "WeeklyData"
   ]
  },
  {
   "cell_type": "code",
   "execution_count": 45,
   "metadata": {
    "collapsed": false
   },
   "outputs": [
    {
     "data": {
      "text/plain": [
       "<matplotlib.axes._subplots.AxesSubplot at 0x2c3d29f4898>"
      ]
     },
     "execution_count": 45,
     "metadata": {},
     "output_type": "execute_result"
    }
   ],
   "source": [
    "sns.barplot(x=WeeklyData.index, y=\"DAY_WEEK\", data=WeeklyData, palette=\"Reds\" , order=['Monday','Tuesday','Wednesday',\n",
    "                                                                       'Thursday','Friday','Saturday','Sunday'])"
   ]
  },
  {
   "cell_type": "code",
   "execution_count": 46,
   "metadata": {
    "collapsed": false
   },
   "outputs": [
    {
     "data": {
      "image/png": "[encoded data removed]",
      "text/plain": [
       "<matplotlib.figure.Figure at 0x2c3d2a3d2e8>"
      ]
     },
     "metadata": {},
     "output_type": "display_data"
    }
   ],
   "source": [
    "plt.show()"
   ]
  },
  {
   "cell_type": "code",
   "execution_count": 51,
   "metadata": {
    "collapsed": false
   },
   "outputs": [
    {
     "data": {
      "text/plain": [
       "<matplotlib.legend.Legend at 0x2c3d3a458d0>"
      ]
     },
     "execution_count": 51,
     "metadata": {},
     "output_type": "execute_result"
    }
   ],
   "source": [
    "ax2 =  plt.subplot2grid((2,1),(1,0))\n",
    "sns.countplot(x=\"DAY_WEEK\",hue=\"WEAPONTYPE\", data=crime_report_1, palette=\"hls\", order=['Monday','Tuesday','Wednesday',\n",
    "                                                                       'Thursday','Friday','Saturday','Sunday']);\n",
    "# sns.axlabel(\"\",\"\")\n",
    "ax2.legend(bbox_to_anchor=(1.05, 1), loc=2, borderaxespad=0.1,fontsize=10)"
   ]
  },
  {
   "cell_type": "code",
   "execution_count": 52,
   "metadata": {
    "collapsed": false
   },
   "outputs": [
    {
     "data": {
      "image/png": "[encoded data removed]",
      "text/plain": [
       "<matplotlib.figure.Figure at 0x2c3d37c3c50>"
      ]
     },
     "metadata": {},
     "output_type": "display_data"
    }
   ],
   "source": [
    "plt.show()"
   ]
  }
 ],
 "metadata": {
  "anaconda-cloud": {},
  "kernelspec": {
   "display_name": "Python [conda root]",
   "language": "python",
   "name": "conda-root-py"
  },
  "language_info": {
   "codemirror_mode": {
    "name": "ipython",
    "version": 3
   },
   "file_extension": ".py",
   "mimetype": "text/x-python",
   "name": "python",
   "nbconvert_exporter": "python",
   "pygments_lexer": "ipython3",
   "version": "3.5.2"
  }
 },
 "nbformat": 4,
 "nbformat_minor": 1
}
