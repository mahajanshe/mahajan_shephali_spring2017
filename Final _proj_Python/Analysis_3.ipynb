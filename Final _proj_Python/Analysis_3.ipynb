{
 "cells": [
  {
   "cell_type": "code",
   "execution_count": 1,
   "metadata": {
    "collapsed": true
   },
   "outputs": [],
   "source": [
    "import pandas as pd\n",
    "import matplotlib.pyplot as pl"
   ]
  },
  {
   "cell_type": "code",
   "execution_count": 2,
   "metadata": {
    "collapsed": false
   },
   "outputs": [],
   "source": [
    "train = pd.read_csv(('Crime_Report_Chicago.csv'), parse_dates=['Date'])\n",
    "df =train.head(10)"
   ]
  },
  {
   "cell_type": "code",
   "execution_count": 3,
   "metadata": {
    "collapsed": false
   },
   "outputs": [],
   "source": [
    "train['Year'] = train['Date'].map(lambda x: x.year)\n",
    "train['Week'] = train['Date'].map(lambda x: x.week)\n",
    "train['Hour'] = train['Date'].map(lambda x: x.hour)\n"
   ]
  },
  {
   "cell_type": "code",
   "execution_count": 4,
   "metadata": {
    "collapsed": false
   },
   "outputs": [],
   "source": [
    "train.Block.value_counts().plot(kind='bar', figsize=(8,10))\n",
    "pl.savefig('district_counts.png')"
   ]
  },
  {
   "cell_type": "code",
   "execution_count": null,
   "metadata": {
    "collapsed": true
   },
   "outputs": [],
   "source": [
    "\n",
    "train['Year'] = train['Dates'].map(lambda x: x.year)\n",
    "train['Week'] = train['Dates'].map(lambda x: x.week)\n",
    "train['Hour'] = train['Dates'].map(lambda x: x.hour)\n",
    "\n",
    "print(train.head())\n",
    "\n",
    "train.PdDistrict.value_counts().plot(kind='bar', figsize=(8,10))\n",
    "pl.savefig('district_counts.png')\n",
    "\n",
    "\n",
    "train['event']=1\n",
    "weekly_events = train[['Week','Year','event']].groupby(['Year','Week']).count().reset_index()\n",
    "weekly_events_years = weekly_events.pivot(index='Week', columns='Year', values='event').fillna(method='ffill')\n",
    "#%matplotlib inline\n",
    "ax = weekly_events_years.interpolate().plot(title='number of cases every 2 weeks', figsize=(10,6))\n",
    "pl.savefig('events_every_two_weeks.png')\n",
    "\n",
    "\n",
    "hourly_events = train[['Hour','event']].groupby(['Hour']).count().reset_index()\n",
    "hourly_events.plot(kind='bar', figsize=(6, 6))\n",
    "pl.savefig('hourly_events.png')\n",
    "\n",
    "\n",
    "hourly_district_events = train[['PdDistrict','Hour','event']].groupby(['PdDistrict','Hour']).count().reset_index()\n",
    "hourly_district_events_pivot = hourly_district_events.pivot(index='Hour', columns='PdDistrict', values='event').fillna(method='ffill')\n",
    "hourly_district_events_pivot.interpolate().plot(title='number of cases hourly by district', figsize=(10,6))\n",
    "pl.savefig('hourly_events_by_district.png')"
   ]
  }
 ],
 "metadata": {
  "kernelspec": {
   "display_name": "Python [conda root]",
   "language": "python",
   "name": "conda-root-py"
  },
  "language_info": {
   "codemirror_mode": {
    "name": "ipython",
    "version": 3
   },
   "file_extension": ".py",
   "mimetype": "text/x-python",
   "name": "python",
   "nbconvert_exporter": "python",
   "pygments_lexer": "ipython3",
   "version": "3.5.2"
  }
 },
 "nbformat": 4,
 "nbformat_minor": 1
}
