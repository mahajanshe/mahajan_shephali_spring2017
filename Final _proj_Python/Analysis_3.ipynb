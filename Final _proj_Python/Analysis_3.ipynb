{
 "cells": [
  {
   "cell_type": "code",
   "execution_count": null,
   "metadata": {
    "collapsed": true
   },
   "outputs": [],
   "source": []
  },
  {
   "cell_type": "code",
   "execution_count": 1,
   "metadata": {
    "collapsed": true
   },
   "outputs": [],
   "source": [
    "import pandas as pd\n",
    "import numpy as np\n",
    "import matplotlib.pyplot as plt\n",
    "import matplotlib\n",
    "matplotlib.style.use('ggplot')\n",
    "# import pandas.tools.rplot as rplot\n",
    "from sklearn.ensemble import RandomForestClassifier"
   ]
  },
  {
   "cell_type": "code",
   "execution_count": 2,
   "metadata": {
    "collapsed": false
   },
   "outputs": [
    {
     "name": "stderr",
     "output_type": "stream",
     "text": [
      "C:\\Users\\Shephali Mahajan\\Anaconda3\\lib\\site-packages\\IPython\\core\\interactiveshell.py:2717: DtypeWarning: Columns (10) have mixed types. Specify dtype option on import or set low_memory=False.\n",
      "  interactivity=interactivity, compiler=compiler, result=result)\n"
     ]
    }
   ],
   "source": [
    "crime_boston = pd.read_csv(('Crime_Report_Boston.csv'), parse_dates=['FROMDATE'], index_col='FROMDATE')\n",
    "df = crime_boston.head()"
   ]
  },
  {
   "cell_type": "code",
   "execution_count": 3,
   "metadata": {
    "collapsed": false
   },
   "outputs": [],
   "source": [
    "crime_boston['DayOfWeek'] = crime_boston.index.dayofweek\n",
    "crime_boston['Hour'] = crime_boston.index.hour\n",
    "crime_boston['Month'] = crime_boston.index.month\n",
    "crime_boston['Year'] = crime_boston.index.year\n",
    "crime_boston['DayOfMonth'] = crime_boston.index.day"
   ]
  },
  {
   "cell_type": "code",
   "execution_count": 4,
   "metadata": {
    "collapsed": false
   },
   "outputs": [
    {
     "data": {
      "text/plain": [
       "FROMDATE\n",
       "2012-07-08 06:00:00    7\n",
       "2012-07-08 06:03:00    7\n",
       "2012-07-08 06:26:00    7\n",
       "2012-07-08 06:56:00    7\n",
       "2012-07-08 07:15:00    7\n",
       "Name: Month, dtype: int32"
      ]
     },
     "execution_count": 4,
     "metadata": {},
     "output_type": "execute_result"
    }
   ],
   "source": [
    "crime_boston['Month'].head()"
   ]
  },
  {
   "cell_type": "code",
   "execution_count": 5,
   "metadata": {
    "collapsed": true
   },
   "outputs": [],
   "source": [
    "import pylab"
   ]
  },
  {
   "cell_type": "code",
   "execution_count": 6,
   "metadata": {
    "collapsed": false
   },
   "outputs": [
    {
     "data": {
      "text/plain": [
       "array([20697, 18461, 21295, 20930, 23294, 22132, 29113, 25525, 23159,\n",
       "       22836, 20379, 20235], dtype=int64)"
      ]
     },
     "execution_count": 6,
     "metadata": {},
     "output_type": "execute_result"
    }
   ],
   "source": [
    "pylab.rcParams['figure.figsize'] = (16.0, 8.0)\n",
    "\n",
    "monthsIdx = crime_boston.groupby('Month').size().keys() - 1\n",
    "monthsLit = ['January', 'February', \n",
    "             'March', 'April', 'May', \n",
    "             'June', 'July','August', \n",
    "             'September', 'October', 'November', 'December']\n",
    "occursByMonth = crime_boston.groupby('Month').size().get_values()\n",
    "occursByMonth"
   ]
  },
  {
   "cell_type": "code",
   "execution_count": 65,
   "metadata": {
    "collapsed": false
   },
   "outputs": [
    {
     "data": {
      "text/plain": [
       "[<matplotlib.text.Text at 0x224cd940978>,\n",
       " <matplotlib.text.Text at 0x224cd943080>,\n",
       " <matplotlib.text.Text at 0x224cdaa2c50>,\n",
       " <matplotlib.text.Text at 0x224cd940d30>,\n",
       " <matplotlib.text.Text at 0x224cd9377f0>,\n",
       " <matplotlib.text.Text at 0x224cd79dc18>,\n",
       " <matplotlib.text.Text at 0x224cd4d4b00>,\n",
       " <matplotlib.text.Text at 0x224cd4cdf28>,\n",
       " <matplotlib.text.Text at 0x224cd484ba8>,\n",
       " <matplotlib.text.Text at 0x224cd48e390>,\n",
       " <matplotlib.text.Text at 0x224cdaa6978>,\n",
       " <matplotlib.text.Text at 0x224cdaa9400>]"
      ]
     },
     "execution_count": 65,
     "metadata": {},
     "output_type": "execute_result"
    }
   ],
   "source": [
    "# Linear plot for all crimes\n",
    "ax1 = plt.subplot2grid((3,3), (0,0), colspan=3)\n",
    "ax1.plot(monthsIdx, occursByMonth, 'ro-', linewidth=2)\n",
    "\n",
    "ax1.set_title ('All Crimes', fontsize=20)\n",
    "\n",
    "start, end = ax1.get_xlim()\n",
    "ax1.xaxis.set_ticks(np.arange(start, end, 1))\n",
    "ax1.set_xticklabels(monthsLit)"
   ]
  },
  {
   "cell_type": "code",
   "execution_count": 66,
   "metadata": {
    "collapsed": true
   },
   "outputs": [],
   "source": [
    "# ensure that ticks are only at the bottom and left parts of the plot\n",
    "ax1.get_xaxis().tick_bottom()\n",
    "ax1.get_yaxis().tick_left()"
   ]
  },
  {
   "cell_type": "code",
   "execution_count": 67,
   "metadata": {
    "collapsed": false
   },
   "outputs": [],
   "source": [
    "Narcotics = crime_boston[crime_boston['INCIDENT_TYPE_DESCRIPTION'] == \"Drug Violation\"]\n",
    "assault = crime_boston[crime_boston['INCIDENT_TYPE_DESCRIPTION'] == \"Harass\"]\n",
    "homicide = crime_boston[crime_boston['INCIDENT_TYPE_DESCRIPTION'] == \"HOMICIDE\"]\n",
    "robbery = crime_boston[crime_boston['INCIDENT_TYPE_DESCRIPTION'] == \"ROBBERY\"]\n",
    "vandalism = crime_boston[crime_boston['INCIDENT_TYPE_DESCRIPTION'] == \"VANDALISM\"]\n",
    "V07RV = crime_boston[crime_boston['INCIDENT_TYPE_DESCRIPTION'] == \"07RV\"]\n",
    "\n",
    "# Narcotics = crime_boston[crime_boston['Primary Type'] == \"Narcotics\"]\n",
    "# assault = crime_boston[crime_boston['Primary Type'] == \"ASSAULT\"]\n",
    "# theft = crime_boston[crime_boston['Primary Type'] == \"THEFT\"]\n",
    "# robbery = crime_boston[crime_boston['Primary Type'] == \"ROBBERY\"]\n",
    "# pros = crime_boston[crime_boston['Primary Type'] == \"PROSTITUTION\"]\n",
    "# other = crime_boston[crime_boston['Primary Type'] == \"OTHER OFFENSE\"]"
   ]
  },
  {
   "cell_type": "code",
   "execution_count": null,
   "metadata": {
    "collapsed": true
   },
   "outputs": [],
   "source": [
    "Narcotics"
   ]
  },
  {
   "cell_type": "code",
   "execution_count": null,
   "metadata": {
    "collapsed": true
   },
   "outputs": [],
   "source": [
    "with open('Narcotics.csv', 'w', newline=\"\") as csvfile:\n",
    "    csv_output = csv.writer(csvfile)\n",
    "    csv_output.writerow(['Mail Id', 'Freq'])\n",
    "    for row in sortedlist:\n",
    "        csv_output.writerow([row[0], row[1]])\n",
    "        csvfile.close"
   ]
  },
  {
   "cell_type": "code",
   "execution_count": 68,
   "metadata": {
    "collapsed": false
   },
   "outputs": [],
   "source": [
    "# Linear normalized plot for 6 top crimes\n",
    "ax2 = plt.subplot2grid((3,3), (1,0), colspan=3, rowspan=2)"
   ]
  },
  {
   "cell_type": "code",
   "execution_count": 59,
   "metadata": {
    "collapsed": false
   },
   "outputs": [
    {
     "data": {
      "text/plain": [
       "<matplotlib.axes._subplots.AxesSubplot at 0x224cd47d3c8>"
      ]
     },
     "execution_count": 59,
     "metadata": {},
     "output_type": "execute_result"
    }
   ],
   "source": [
    "ax2"
   ]
  },
  {
   "cell_type": "code",
   "execution_count": 69,
   "metadata": {
    "collapsed": true
   },
   "outputs": [],
   "source": [
    "y = np.empty([6,12])"
   ]
  },
  {
   "cell_type": "code",
   "execution_count": 70,
   "metadata": {
    "collapsed": false
   },
   "outputs": [
    {
     "data": {
      "text/plain": [
       "array([[ 0.,  0.,  0.,  0.,  0.,  0.,  0.,  0.,  0.,  0.,  0.,  0.],\n",
       "       [ 0.,  0.,  0.,  0.,  0.,  0.,  0.,  0.,  0.,  0.,  0.,  0.],\n",
       "       [ 0.,  0.,  0.,  0.,  0.,  0.,  0.,  0.,  0.,  0.,  0.,  0.],\n",
       "       [ 0.,  0.,  0.,  0.,  0.,  0.,  0.,  0.,  0.,  0.,  0.,  0.],\n",
       "       [ 0.,  0.,  0.,  0.,  0.,  0.,  0.,  0.,  0.,  0.,  0.,  0.],\n",
       "       [ 0.,  0.,  0.,  0.,  0.,  0.,  0.,  0.,  0.,  0.,  0.,  0.]])"
      ]
     },
     "execution_count": 70,
     "metadata": {},
     "output_type": "execute_result"
    }
   ],
   "source": [
    "y"
   ]
  },
  {
   "cell_type": "code",
   "execution_count": 71,
   "metadata": {
    "collapsed": false
   },
   "outputs": [
    {
     "ename": "ValueError",
     "evalue": "could not broadcast input array from shape (3) into shape (12)",
     "output_type": "error",
     "traceback": [
      "\u001b[0;31m---------------------------------------------------------------------------\u001b[0m",
      "\u001b[0;31mValueError\u001b[0m                                Traceback (most recent call last)",
      "\u001b[0;32m<ipython-input-71-a868e4e37a24>\u001b[0m in \u001b[0;36m<module>\u001b[0;34m()\u001b[0m\n\u001b[0;32m----> 1\u001b[0;31m \u001b[0my\u001b[0m\u001b[1;33m[\u001b[0m\u001b[1;36m0\u001b[0m\u001b[1;33m]\u001b[0m \u001b[1;33m=\u001b[0m \u001b[0mNarcotics\u001b[0m\u001b[1;33m.\u001b[0m\u001b[0mgroupby\u001b[0m\u001b[1;33m(\u001b[0m\u001b[1;34m'Month'\u001b[0m\u001b[1;33m)\u001b[0m\u001b[1;33m.\u001b[0m\u001b[0msize\u001b[0m\u001b[1;33m(\u001b[0m\u001b[1;33m)\u001b[0m\u001b[1;33m.\u001b[0m\u001b[0mget_values\u001b[0m\u001b[1;33m(\u001b[0m\u001b[1;33m)\u001b[0m\u001b[1;33m\u001b[0m\u001b[0m\n\u001b[0m\u001b[1;32m      2\u001b[0m \u001b[0my\u001b[0m\u001b[1;33m[\u001b[0m\u001b[1;36m1\u001b[0m\u001b[1;33m]\u001b[0m \u001b[1;33m=\u001b[0m \u001b[0massault\u001b[0m\u001b[1;33m.\u001b[0m\u001b[0mgroupby\u001b[0m\u001b[1;33m(\u001b[0m\u001b[1;34m'Month'\u001b[0m\u001b[1;33m)\u001b[0m\u001b[1;33m.\u001b[0m\u001b[0msize\u001b[0m\u001b[1;33m(\u001b[0m\u001b[1;33m)\u001b[0m\u001b[1;33m.\u001b[0m\u001b[0mget_values\u001b[0m\u001b[1;33m(\u001b[0m\u001b[1;33m)\u001b[0m\u001b[1;33m\u001b[0m\u001b[0m\n\u001b[1;32m      3\u001b[0m \u001b[0my\u001b[0m\u001b[1;33m[\u001b[0m\u001b[1;36m2\u001b[0m\u001b[1;33m]\u001b[0m \u001b[1;33m=\u001b[0m \u001b[0mtheft\u001b[0m\u001b[1;33m.\u001b[0m\u001b[0mgroupby\u001b[0m\u001b[1;33m(\u001b[0m\u001b[1;34m'Month'\u001b[0m\u001b[1;33m)\u001b[0m\u001b[1;33m.\u001b[0m\u001b[0msize\u001b[0m\u001b[1;33m(\u001b[0m\u001b[1;33m)\u001b[0m\u001b[1;33m.\u001b[0m\u001b[0mget_values\u001b[0m\u001b[1;33m(\u001b[0m\u001b[1;33m)\u001b[0m\u001b[1;33m\u001b[0m\u001b[0m\n\u001b[1;32m      4\u001b[0m \u001b[0my\u001b[0m\u001b[1;33m[\u001b[0m\u001b[1;36m3\u001b[0m\u001b[1;33m]\u001b[0m \u001b[1;33m=\u001b[0m \u001b[0mrobbery\u001b[0m\u001b[1;33m.\u001b[0m\u001b[0mgroupby\u001b[0m\u001b[1;33m(\u001b[0m\u001b[1;34m'Month'\u001b[0m\u001b[1;33m)\u001b[0m\u001b[1;33m.\u001b[0m\u001b[0msize\u001b[0m\u001b[1;33m(\u001b[0m\u001b[1;33m)\u001b[0m\u001b[1;33m.\u001b[0m\u001b[0mget_values\u001b[0m\u001b[1;33m(\u001b[0m\u001b[1;33m)\u001b[0m\u001b[1;33m\u001b[0m\u001b[0m\n\u001b[1;32m      5\u001b[0m \u001b[0my\u001b[0m\u001b[1;33m[\u001b[0m\u001b[1;36m4\u001b[0m\u001b[1;33m]\u001b[0m \u001b[1;33m=\u001b[0m \u001b[0mvandalism\u001b[0m\u001b[1;33m.\u001b[0m\u001b[0mgroupby\u001b[0m\u001b[1;33m(\u001b[0m\u001b[1;34m'Month'\u001b[0m\u001b[1;33m)\u001b[0m\u001b[1;33m.\u001b[0m\u001b[0msize\u001b[0m\u001b[1;33m(\u001b[0m\u001b[1;33m)\u001b[0m\u001b[1;33m.\u001b[0m\u001b[0mget_values\u001b[0m\u001b[1;33m(\u001b[0m\u001b[1;33m)\u001b[0m\u001b[1;33m\u001b[0m\u001b[0m\n",
      "\u001b[0;31mValueError\u001b[0m: could not broadcast input array from shape (3) into shape (12)"
     ]
    }
   ],
   "source": [
    "y[0] = Narcotics.groupby('Month').size().get_values()\n",
    "y[1] = assault.groupby('Month').size().get_values()\n",
    "y[2] = theft.groupby('Month').size().get_values()\n",
    "y[3] = robbery.groupby('Month').size().get_values()\n",
    "y[4] = vandalism.groupby('Month').size().get_values()\n",
    "y[5] = homicide.groupby('Month').size().get_values()"
   ]
  },
  {
   "cell_type": "code",
   "execution_count": 45,
   "metadata": {
    "collapsed": false
   },
   "outputs": [
    {
     "ename": "IndexError",
     "evalue": "index 3 is out of bounds for axis 0 with size 3",
     "output_type": "error",
     "traceback": [
      "\u001b[0;31m---------------------------------------------------------------------------\u001b[0m",
      "\u001b[0;31mIndexError\u001b[0m                                Traceback (most recent call last)",
      "\u001b[0;32m<ipython-input-45-4cac935255e6>\u001b[0m in \u001b[0;36m<module>\u001b[0;34m()\u001b[0m\n\u001b[0;32m----> 1\u001b[0;31m \u001b[0my\u001b[0m\u001b[1;33m[\u001b[0m\u001b[1;36m3\u001b[0m\u001b[1;33m]\u001b[0m\u001b[1;33m\u001b[0m\u001b[0m\n\u001b[0m",
      "\u001b[0;31mIndexError\u001b[0m: index 3 is out of bounds for axis 0 with size 3"
     ]
    }
   ],
   "source": [
    "y[3]"
   ]
  },
  {
   "cell_type": "code",
   "execution_count": 35,
   "metadata": {
    "collapsed": true
   },
   "outputs": [],
   "source": [
    "crimes = ['NARCOTICS', 'ASSAULT', 'THEFT', 'ROBBERY']\n",
    "# 'VANDALISM', 'HOMICIDE']\n",
    "color_sequence = ['#2ca02c','#d62728', '#9467bd', '#8c564b']\n",
    "# '#1f77b4', '#ff7f0e', "
   ]
  },
  {
   "cell_type": "code",
   "execution_count": 36,
   "metadata": {
    "collapsed": false
   },
   "outputs": [
    {
     "name": "stderr",
     "output_type": "stream",
     "text": [
      "C:\\Users\\Shephali Mahajan\\Anaconda3\\lib\\site-packages\\ipykernel\\__main__.py:3: RuntimeWarning: invalid value encountered in true_divide\n",
      "  app.launch_new_instance()\n"
     ]
    }
   ],
   "source": [
    "h = [None]*4\n",
    "for i in range(0,4):\n",
    "    y[i]= (y[i]-min(y[i]))/(max(y[i])-min(y[i]))  # normalization\n",
    "    h[i] = ax2.plot(monthsIdx, y[i],'o-', color=color_sequence[i], lw=2)"
   ]
  },
  {
   "cell_type": "code",
   "execution_count": 37,
   "metadata": {
    "collapsed": false
   },
   "outputs": [
    {
     "data": {
      "text/plain": [
       "<matplotlib.legend.Legend at 0x224cd1e3dd8>"
      ]
     },
     "execution_count": 37,
     "metadata": {},
     "output_type": "execute_result"
    }
   ],
   "source": [
    "ax2.set_ylabel(\"Crime occurences by month, normalized\")\n",
    "\n",
    "ax2.xaxis.set_ticks(np.arange(start, end+2, 1))\n",
    "ax2.set_xticklabels(monthsLit)\n",
    "\n",
    "ax2.legend((item[0] for item in h), \n",
    "           crimes, \n",
    "           bbox_to_anchor=(0.87, 1), loc=2, borderaxespad=0., frameon=False)"
   ]
  },
  {
   "cell_type": "code",
   "execution_count": 40,
   "metadata": {
    "collapsed": false
   },
   "outputs": [
    {
     "data": {
      "text/plain": [
       "<matplotlib.text.Text at 0x224cd1f9e80>"
      ]
     },
     "execution_count": 40,
     "metadata": {},
     "output_type": "execute_result"
    }
   ],
   "source": [
    "pylab.gcf().text(0.5, 1.00, \n",
    "            'Occurance of crimes by Month in Boston',\n",
    "            horizontalalignment='center',\n",
    "            verticalalignment='top', \n",
    "             fontsize = 10)\n"
   ]
  },
  {
   "cell_type": "code",
   "execution_count": 41,
   "metadata": {
    "collapsed": false
   },
   "outputs": [
    {
     "data": {
      "text/plain": [
       "<matplotlib.figure.Figure at 0x224cd251208>"
      ]
     },
     "metadata": {},
     "output_type": "display_data"
    }
   ],
   "source": [
    "plt.show()"
   ]
  }
 ],
 "metadata": {
  "anaconda-cloud": {},
  "kernelspec": {
   "display_name": "Python [conda root]",
   "language": "python",
   "name": "conda-root-py"
  },
  "language_info": {
   "codemirror_mode": {
    "name": "ipython",
    "version": 3
   },
   "file_extension": ".py",
   "mimetype": "text/x-python",
   "name": "python",
   "nbconvert_exporter": "python",
   "pygments_lexer": "ipython3",
   "version": "3.5.2"
  }
 },
 "nbformat": 4,
 "nbformat_minor": 1
}
