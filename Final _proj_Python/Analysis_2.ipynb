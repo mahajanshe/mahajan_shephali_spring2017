{
 "cells": [
  {
   "cell_type": "code",
   "execution_count": 24,
   "metadata": {
    "collapsed": true
   },
   "outputs": [],
   "source": [
    "#Calculate the percentage of each crime to the overall and diagram representation"
   ]
  },
  {
   "cell_type": "code",
   "execution_count": 42,
   "metadata": {
    "collapsed": true
   },
   "outputs": [],
   "source": [
    "import csv, time\n",
    "import numpy as np\n",
    "from datetime import datetime\n",
    "import pandas as pd\n",
    "from io import StringIO\n",
    "import matplotlib.pyplot as plt"
   ]
  },
  {
   "cell_type": "code",
   "execution_count": 43,
   "metadata": {
    "collapsed": true
   },
   "outputs": [],
   "source": [
    "crime_report = pd.read_csv('Crime_Report_Boston.csv', low_memory=False)"
   ]
  },
  {
   "cell_type": "code",
   "execution_count": 44,
   "metadata": {
    "collapsed": false
   },
   "outputs": [],
   "source": [
    "df2 = crime_report[['COMPNOS','INCIDENT_TYPE_DESCRIPTION']]"
   ]
  },
  {
   "cell_type": "code",
   "execution_count": 47,
   "metadata": {
    "collapsed": false
   },
   "outputs": [],
   "source": [
    "# unid=list(df1['INCIDENT_TYPE_DESCRIPTION'].unique())\n",
    "df3= df2.groupby('INCIDENT_TYPE_DESCRIPTION').apply(lambda x: x.COMPNOS.nunique())"
   ]
  },
  {
   "cell_type": "code",
   "execution_count": 48,
   "metadata": {
    "collapsed": true
   },
   "outputs": [],
   "source": [
    "df4= pd.DataFrame({'INCIDENT_TYPE_DESCRIPTION':df3.index, 'Values':df3.values})"
   ]
  },
  {
   "cell_type": "code",
   "execution_count": 49,
   "metadata": {
    "collapsed": false
   },
   "outputs": [],
   "source": [
    "df1 = crime_report['INCIDENT_TYPE_DESCRIPTION'].value_counts()"
   ]
  },
  {
   "cell_type": "code",
   "execution_count": 50,
   "metadata": {
    "collapsed": false
   },
   "outputs": [],
   "source": [
    "bar_name = np.arange(len(df1[0:20].keys()))"
   ]
  },
  {
   "cell_type": "code",
   "execution_count": 51,
   "metadata": {
    "collapsed": false,
    "scrolled": false
   },
   "outputs": [
    {
     "data": {
      "text/plain": [
       "<Container object of 20 artists>"
      ]
     },
     "execution_count": 51,
     "metadata": {},
     "output_type": "execute_result"
    }
   ],
   "source": [
    "plt.barh(bar_name, df1[0:20].get_values(),  align='center',color = 'black')"
   ]
  },
  {
   "cell_type": "code",
   "execution_count": 52,
   "metadata": {
    "collapsed": false
   },
   "outputs": [
    {
     "data": {
      "text/plain": [
       "([<matplotlib.axis.YTick at 0x1790092eba8>,\n",
       "  <matplotlib.axis.YTick at 0x17900941080>,\n",
       "  <matplotlib.axis.YTick at 0x17900933f60>,\n",
       "  <matplotlib.axis.YTick at 0x179009a4828>,\n",
       "  <matplotlib.axis.YTick at 0x179009ad278>,\n",
       "  <matplotlib.axis.YTick at 0x179009adc88>,\n",
       "  <matplotlib.axis.YTick at 0x179009b2668>,\n",
       "  <matplotlib.axis.YTick at 0x179009b4080>,\n",
       "  <matplotlib.axis.YTick at 0x179009b4ac8>,\n",
       "  <matplotlib.axis.YTick at 0x179009b8518>,\n",
       "  <matplotlib.axis.YTick at 0x179009b8f28>,\n",
       "  <matplotlib.axis.YTick at 0x179009be978>,\n",
       "  <matplotlib.axis.YTick at 0x179009c13c8>,\n",
       "  <matplotlib.axis.YTick at 0x179009c1dd8>,\n",
       "  <matplotlib.axis.YTick at 0x179009c4828>,\n",
       "  <matplotlib.axis.YTick at 0x179009c8278>,\n",
       "  <matplotlib.axis.YTick at 0x179009c8c88>,\n",
       "  <matplotlib.axis.YTick at 0x179009cd6d8>,\n",
       "  <matplotlib.axis.YTick at 0x179009d2128>,\n",
       "  <matplotlib.axis.YTick at 0x179009d2b38>],\n",
       " <a list of 20 Text yticklabel objects>)"
      ]
     },
     "execution_count": 52,
     "metadata": {},
     "output_type": "execute_result"
    }
   ],
   "source": [
    "plt.yticks(bar_name, map(lambda x:x.title(),df1[0:20].keys()))"
   ]
  },
  {
   "cell_type": "code",
   "execution_count": 53,
   "metadata": {
    "collapsed": false
   },
   "outputs": [
    {
     "data": {
      "text/html": [
       "<div>\n",
       "<table border=\"1\" class=\"dataframe\">\n",
       "  <thead>\n",
       "    <tr style=\"text-align: right;\">\n",
       "      <th></th>\n",
       "      <th>INCIDENT_TYPE_DESCRIPTION</th>\n",
       "      <th>Values</th>\n",
       "    </tr>\n",
       "  </thead>\n",
       "  <tbody>\n",
       "    <tr>\n",
       "      <th>119</th>\n",
       "      <td>VAL</td>\n",
       "      <td>27363</td>\n",
       "    </tr>\n",
       "    <tr>\n",
       "      <th>77</th>\n",
       "      <td>OTHER LARCENY</td>\n",
       "      <td>24443</td>\n",
       "    </tr>\n",
       "    <tr>\n",
       "      <th>107</th>\n",
       "      <td>SIMPLE ASSAULT</td>\n",
       "      <td>17697</td>\n",
       "    </tr>\n",
       "    <tr>\n",
       "      <th>70</th>\n",
       "      <td>MedAssist</td>\n",
       "      <td>17128</td>\n",
       "    </tr>\n",
       "    <tr>\n",
       "      <th>68</th>\n",
       "      <td>MVAcc</td>\n",
       "      <td>13832</td>\n",
       "    </tr>\n",
       "    <tr>\n",
       "      <th>120</th>\n",
       "      <td>VANDALISM</td>\n",
       "      <td>13339</td>\n",
       "    </tr>\n",
       "    <tr>\n",
       "      <th>53</th>\n",
       "      <td>InvPer</td>\n",
       "      <td>12937</td>\n",
       "    </tr>\n",
       "    <tr>\n",
       "      <th>58</th>\n",
       "      <td>LARCENY FROM MOTOR VEHICLE</td>\n",
       "      <td>12742</td>\n",
       "    </tr>\n",
       "    <tr>\n",
       "      <th>28</th>\n",
       "      <td>DRUG CHARGES</td>\n",
       "      <td>12042</td>\n",
       "    </tr>\n",
       "    <tr>\n",
       "      <th>38</th>\n",
       "      <td>FRAUD</td>\n",
       "      <td>8742</td>\n",
       "    </tr>\n",
       "    <tr>\n",
       "      <th>92</th>\n",
       "      <td>PropLost</td>\n",
       "      <td>8522</td>\n",
       "    </tr>\n",
       "    <tr>\n",
       "      <th>116</th>\n",
       "      <td>TOWED</td>\n",
       "      <td>7526</td>\n",
       "    </tr>\n",
       "    <tr>\n",
       "      <th>98</th>\n",
       "      <td>RESIDENTIAL BURGLARY</td>\n",
       "      <td>6737</td>\n",
       "    </tr>\n",
       "    <tr>\n",
       "      <th>54</th>\n",
       "      <td>InvProp</td>\n",
       "      <td>6592</td>\n",
       "    </tr>\n",
       "    <tr>\n",
       "      <th>2</th>\n",
       "      <td>AGGRAVATED ASSAULT</td>\n",
       "      <td>5649</td>\n",
       "    </tr>\n",
       "    <tr>\n",
       "      <th>111</th>\n",
       "      <td>Service</td>\n",
       "      <td>5341</td>\n",
       "    </tr>\n",
       "    <tr>\n",
       "      <th>99</th>\n",
       "      <td>ROBBERY</td>\n",
       "      <td>4974</td>\n",
       "    </tr>\n",
       "    <tr>\n",
       "      <th>84</th>\n",
       "      <td>PersLoc</td>\n",
       "      <td>4745</td>\n",
       "    </tr>\n",
       "    <tr>\n",
       "      <th>4</th>\n",
       "      <td>AUTO THEFT</td>\n",
       "      <td>4620</td>\n",
       "    </tr>\n",
       "    <tr>\n",
       "      <th>91</th>\n",
       "      <td>PropFound</td>\n",
       "      <td>4316</td>\n",
       "    </tr>\n",
       "  </tbody>\n",
       "</table>\n",
       "</div>"
      ],
      "text/plain": [
       "      INCIDENT_TYPE_DESCRIPTION  Values\n",
       "119                         VAL   27363\n",
       "77                OTHER LARCENY   24443\n",
       "107              SIMPLE ASSAULT   17697\n",
       "70                    MedAssist   17128\n",
       "68                        MVAcc   13832\n",
       "120                   VANDALISM   13339\n",
       "53                       InvPer   12937\n",
       "58   LARCENY FROM MOTOR VEHICLE   12742\n",
       "28                 DRUG CHARGES   12042\n",
       "38                        FRAUD    8742\n",
       "92                     PropLost    8522\n",
       "116                       TOWED    7526\n",
       "98         RESIDENTIAL BURGLARY    6737\n",
       "54                      InvProp    6592\n",
       "2            AGGRAVATED ASSAULT    5649\n",
       "111                     Service    5341\n",
       "99                      ROBBERY    4974\n",
       "84                      PersLoc    4745\n",
       "4                    AUTO THEFT    4620\n",
       "91                    PropFound    4316"
      ]
     },
     "execution_count": 53,
     "metadata": {},
     "output_type": "execute_result"
    }
   ],
   "source": [
    "df5= df4.sort_values(['Values'], ascending = [False])\n",
    "df5.head(20)"
   ]
  },
  {
   "cell_type": "code",
   "execution_count": 54,
   "metadata": {
    "collapsed": false
   },
   "outputs": [
    {
     "data": {
      "image/png": "[encoded data removed]",
      "text/plain": [
       "<matplotlib.figure.Figure at 0x179709a0a58>"
      ]
     },
     "metadata": {},
     "output_type": "display_data"
    }
   ],
   "source": [
    "plt.xlabel('Crime occurance', fontsize = 10)\n",
    "plt.title('Boston Crimes', fontsize = 20)\n",
    "plt.ticklabel_format(style='sci', axis='x', scilimits=(0,0))\n",
    "plt.show()"
   ]
  }
 ],
 "metadata": {
  "kernelspec": {
   "display_name": "Python [conda root]",
   "language": "python",
   "name": "conda-root-py"
  },
  "language_info": {
   "codemirror_mode": {
    "name": "ipython",
    "version": 3
   },
   "file_extension": ".py",
   "mimetype": "text/x-python",
   "name": "python",
   "nbconvert_exporter": "python",
   "pygments_lexer": "ipython3",
   "version": "3.5.2"
  }
 },
 "nbformat": 4,
 "nbformat_minor": 1
}
