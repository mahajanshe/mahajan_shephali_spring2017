{
 "cells": [
  {
   "cell_type": "code",
   "execution_count": null,
   "metadata": {
    "collapsed": true
   },
   "outputs": [],
   "source": [
    "# Find the percentage on which day (weekday or weekend) , what the crime rates are?\n",
    "# Show on a pie chart"
   ]
  },
  {
   "cell_type": "code",
   "execution_count": 53,
   "metadata": {
    "collapsed": true
   },
   "outputs": [],
   "source": [
    "import csv, time\n",
    "import numpy as np\n",
    "from datetime import datetime\n",
    "import pandas as pd\n",
    "from io import StringIO"
   ]
  },
  {
   "cell_type": "code",
   "execution_count": 54,
   "metadata": {
    "collapsed": false
   },
   "outputs": [],
   "source": [
    "df= pd.read_csv(\"Crime_Report.csv\",low_memory=False)"
   ]
  },
  {
   "cell_type": "code",
   "execution_count": 81,
   "metadata": {
    "collapsed": false
   },
   "outputs": [],
   "source": [
    "df1 = df[['COMPNOS', 'INCIDENT_TYPE_DESCRIPTION','WEAPONTYPE', 'Shooting', 'Year', 'Month', 'DAY_WEEK', 'STREETNAME']]"
   ]
  },
  {
   "cell_type": "code",
   "execution_count": 82,
   "metadata": {
    "collapsed": false,
    "scrolled": true
   },
   "outputs": [
    {
     "data": {
      "text/html": [
       "<div>\n",
       "<table border=\"1\" class=\"dataframe\">\n",
       "  <thead>\n",
       "    <tr style=\"text-align: right;\">\n",
       "      <th></th>\n",
       "      <th>COMPNOS</th>\n",
       "      <th>INCIDENT_TYPE_DESCRIPTION</th>\n",
       "      <th>WEAPONTYPE</th>\n",
       "      <th>Shooting</th>\n",
       "      <th>Year</th>\n",
       "      <th>Month</th>\n",
       "      <th>DAY_WEEK</th>\n",
       "      <th>STREETNAME</th>\n",
       "    </tr>\n",
       "  </thead>\n",
       "  <tbody>\n",
       "    <tr>\n",
       "      <th>0</th>\n",
       "      <td>120420285.0</td>\n",
       "      <td>RESIDENTIAL BURGLARY</td>\n",
       "      <td>Other</td>\n",
       "      <td>No</td>\n",
       "      <td>2012</td>\n",
       "      <td>7</td>\n",
       "      <td>Sunday</td>\n",
       "      <td>ABERDEEN ST</td>\n",
       "    </tr>\n",
       "    <tr>\n",
       "      <th>1</th>\n",
       "      <td>120419202.0</td>\n",
       "      <td>AGGRAVATED ASSAULT</td>\n",
       "      <td>Firearm</td>\n",
       "      <td>Yes</td>\n",
       "      <td>2012</td>\n",
       "      <td>7</td>\n",
       "      <td>Sunday</td>\n",
       "      <td>HOWARD AV</td>\n",
       "    </tr>\n",
       "    <tr>\n",
       "      <th>2</th>\n",
       "      <td>120419213.0</td>\n",
       "      <td>ROBBERY</td>\n",
       "      <td>Firearm</td>\n",
       "      <td>No</td>\n",
       "      <td>2012</td>\n",
       "      <td>7</td>\n",
       "      <td>Sunday</td>\n",
       "      <td>JERSEY ST</td>\n",
       "    </tr>\n",
       "    <tr>\n",
       "      <th>3</th>\n",
       "      <td>120419223.0</td>\n",
       "      <td>COMMERCIAL BURGLARY</td>\n",
       "      <td>Other</td>\n",
       "      <td>No</td>\n",
       "      <td>2012</td>\n",
       "      <td>7</td>\n",
       "      <td>Sunday</td>\n",
       "      <td>COLUMBIA RD</td>\n",
       "    </tr>\n",
       "    <tr>\n",
       "      <th>4</th>\n",
       "      <td>120419236.0</td>\n",
       "      <td>ROBBERY</td>\n",
       "      <td>Firearm</td>\n",
       "      <td>No</td>\n",
       "      <td>2012</td>\n",
       "      <td>7</td>\n",
       "      <td>Sunday</td>\n",
       "      <td>COLLINS ST</td>\n",
       "    </tr>\n",
       "  </tbody>\n",
       "</table>\n",
       "</div>"
      ],
      "text/plain": [
       "       COMPNOS INCIDENT_TYPE_DESCRIPTION WEAPONTYPE Shooting  Year  Month  \\\n",
       "0  120420285.0      RESIDENTIAL BURGLARY      Other       No  2012      7   \n",
       "1  120419202.0        AGGRAVATED ASSAULT    Firearm      Yes  2012      7   \n",
       "2  120419213.0                   ROBBERY    Firearm       No  2012      7   \n",
       "3  120419223.0       COMMERCIAL BURGLARY      Other       No  2012      7   \n",
       "4  120419236.0                   ROBBERY    Firearm       No  2012      7   \n",
       "\n",
       "  DAY_WEEK   STREETNAME  \n",
       "0   Sunday  ABERDEEN ST  \n",
       "1   Sunday    HOWARD AV  \n",
       "2   Sunday    JERSEY ST  \n",
       "3   Sunday  COLUMBIA RD  \n",
       "4   Sunday   COLLINS ST  "
      ]
     },
     "execution_count": 82,
     "metadata": {},
     "output_type": "execute_result"
    }
   ],
   "source": [
    "df1.head()"
   ]
  },
  {
   "cell_type": "code",
   "execution_count": 91,
   "metadata": {
    "collapsed": false
   },
   "outputs": [
    {
     "data": {
      "text/plain": [
       "Shooting  DAY_WEEK \n",
       "No        Friday       41928\n",
       "          Monday       38171\n",
       "          Saturday     38332\n",
       "          Sunday       34260\n",
       "          Thursday     38536\n",
       "          Tuesday      37827\n",
       "          Wednesday    38305\n",
       "Yes       Friday         103\n",
       "          Monday          85\n",
       "          Saturday       114\n",
       "          Sunday         133\n",
       "          Thursday        91\n",
       "          Tuesday         84\n",
       "          Wednesday       87\n",
       "dtype: int64"
      ]
     },
     "execution_count": 91,
     "metadata": {},
     "output_type": "execute_result"
    }
   ],
   "source": [
    "# df1 = df1.groupby(['Year','Month', 'DAY_WEEK'], as_index= False)\n",
    "df2= df1.groupby(['Shooting',\"DAY_WEEK\"]).apply(lambda x: x.Shooting.count())\n",
    "# df = DataFrame(dict(A = True, B = False),index=range(3))\n",
    "df2"
   ]
  },
  {
   "cell_type": "code",
   "execution_count": null,
   "metadata": {
    "collapsed": true
   },
   "outputs": [],
   "source": [
    "#we can conclude weekends (Fri, Sat, Sun) have more shootings than weekdays"
   ]
  }
 ],
 "metadata": {
  "anaconda-cloud": {},
  "kernelspec": {
   "display_name": "Python [conda root]",
   "language": "python",
   "name": "conda-root-py"
  },
  "language_info": {
   "codemirror_mode": {
    "name": "ipython",
    "version": 3
   },
   "file_extension": ".py",
   "mimetype": "text/x-python",
   "name": "python",
   "nbconvert_exporter": "python",
   "pygments_lexer": "ipython3",
   "version": "3.5.2"
  }
 },
 "nbformat": 4,
 "nbformat_minor": 1
}
