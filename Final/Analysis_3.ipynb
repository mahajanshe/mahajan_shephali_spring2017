{
 "cells": [
  {
   "cell_type": "markdown",
   "metadata": {
    "collapsed": true
   },
   "source": [
    "# Crimes in Boston city with on Monthly basis\n",
    "\n",
    "#In the below analysis, I have tried to take the insight of crimes occuring in the Boston city every Month\n"
   ]
  },
  {
   "cell_type": "code",
   "execution_count": 22,
   "metadata": {
    "collapsed": false
   },
   "outputs": [],
   "source": [
    "import pandas as pd\n",
    "import numpy as np\n",
    "import matplotlib.pyplot as plt\n",
    "import matplotlib\n",
    "matplotlib.style.use('ggplot')\n"
   ]
  },
  {
   "cell_type": "code",
   "execution_count": 2,
   "metadata": {
    "collapsed": false
   },
   "outputs": [
    {
     "name": "stderr",
     "output_type": "stream",
     "text": [
      "C:\\Users\\Shephali Mahajan\\Anaconda3\\lib\\site-packages\\IPython\\core\\interactiveshell.py:2717: DtypeWarning: Columns (10) have mixed types. Specify dtype option on import or set low_memory=False.\n",
      "  interactivity=interactivity, compiler=compiler, result=result)\n"
     ]
    }
   ],
   "source": [
    "crime_boston = pd.read_csv(('Crime_Report_Boston.csv'), parse_dates=['FROMDATE'], index_col='FROMDATE')\n",
    "df = crime_boston.head()"
   ]
  },
  {
   "cell_type": "code",
   "execution_count": 3,
   "metadata": {
    "collapsed": false
   },
   "outputs": [],
   "source": [
    "crime_boston['DayOfWeek'] = crime_boston.index.dayofweek\n",
    "crime_boston['Hour'] = crime_boston.index.hour\n",
    "crime_boston['Month'] = crime_boston.index.month\n",
    "crime_boston['Year'] = crime_boston.index.year\n",
    "crime_boston['DayOfMonth'] = crime_boston.index.day"
   ]
  },
  {
   "cell_type": "code",
   "execution_count": 4,
   "metadata": {
    "collapsed": false
   },
   "outputs": [
    {
     "data": {
      "text/plain": [
       "FROMDATE\n",
       "2012-07-08 06:00:00    7\n",
       "2012-07-08 06:03:00    7\n",
       "2012-07-08 06:26:00    7\n",
       "2012-07-08 06:56:00    7\n",
       "2012-07-08 07:15:00    7\n",
       "Name: Month, dtype: int32"
      ]
     },
     "execution_count": 4,
     "metadata": {},
     "output_type": "execute_result"
    }
   ],
   "source": [
    "crime_boston['Month'].head()"
   ]
  },
  {
   "cell_type": "code",
   "execution_count": 5,
   "metadata": {
    "collapsed": true
   },
   "outputs": [],
   "source": [
    "import pylab"
   ]
  },
  {
   "cell_type": "code",
   "execution_count": 6,
   "metadata": {
    "collapsed": false
   },
   "outputs": [
    {
     "data": {
      "text/plain": [
       "array([20697, 18461, 21295, 20930, 23294, 22132, 29113, 25525, 23159,\n",
       "       22836, 20379, 20235], dtype=int64)"
      ]
     },
     "execution_count": 6,
     "metadata": {},
     "output_type": "execute_result"
    }
   ],
   "source": [
    "pylab.rcParams['figure.figsize'] = (16.0, 8.0)\n",
    "\n",
    "monthsIdx = crime_boston.groupby('Month').size().keys() - 1\n",
    "monthsLit = ['January', 'February', \n",
    "             'March', 'April', 'May', \n",
    "             'June', 'July','August', \n",
    "             'September', 'October', 'November', 'December']\n",
    "occursByMonth = crime_boston.groupby('Month').size().get_values()\n",
    "occursByMonth"
   ]
  },
  {
   "cell_type": "code",
   "execution_count": 65,
   "metadata": {
    "collapsed": false
   },
   "outputs": [
    {
     "data": {
      "text/plain": [
       "[<matplotlib.text.Text at 0x224cd940978>,\n",
       " <matplotlib.text.Text at 0x224cd943080>,\n",
       " <matplotlib.text.Text at 0x224cdaa2c50>,\n",
       " <matplotlib.text.Text at 0x224cd940d30>,\n",
       " <matplotlib.text.Text at 0x224cd9377f0>,\n",
       " <matplotlib.text.Text at 0x224cd79dc18>,\n",
       " <matplotlib.text.Text at 0x224cd4d4b00>,\n",
       " <matplotlib.text.Text at 0x224cd4cdf28>,\n",
       " <matplotlib.text.Text at 0x224cd484ba8>,\n",
       " <matplotlib.text.Text at 0x224cd48e390>,\n",
       " <matplotlib.text.Text at 0x224cdaa6978>,\n",
       " <matplotlib.text.Text at 0x224cdaa9400>]"
      ]
     },
     "execution_count": 65,
     "metadata": {},
     "output_type": "execute_result"
    }
   ],
   "source": [
    "# Linear plot for all crimes\n",
    "x1 = plt.subplot2grid((3,3), (0,0), colspan=3)\n",
    "x1.plot(monthsIdx, occursByMonth, 'ro-', linewidth=2)\n",
    "\n",
    "x1.set_title ('All Crimes', fontsize=20)\n",
    "\n",
    "start, end = x1.get_xlim()\n",
    "x1.xaxis.set_ticks(np.arange(start, end, 1))\n",
    "x1.set_xticklabels(monthsLit)"
   ]
  },
  {
   "cell_type": "code",
   "execution_count": 66,
   "metadata": {
    "collapsed": true
   },
   "outputs": [],
   "source": [
    "# ensure that ticks are only at the bottom and left parts of the plot\n",
    "x1.get_xaxis().tick_bottom()\n",
    "x1.get_yaxis().tick_left()"
   ]
  },
  {
   "cell_type": "code",
   "execution_count": 67,
   "metadata": {
    "collapsed": false
   },
   "outputs": [],
   "source": [
    "Narcotics = crime_boston[crime_boston['INCIDENT_TYPE_DESCRIPTION'] == \"Drug Violation\"]\n",
    "assault = crime_boston[crime_boston['INCIDENT_TYPE_DESCRIPTION'] == \"Harass\"]\n",
    "homicide = crime_boston[crime_boston['INCIDENT_TYPE_DESCRIPTION'] == \"HOMICIDE\"]\n",
    "robbery = crime_boston[crime_boston['INCIDENT_TYPE_DESCRIPTION'] == \"ROBBERY\"]\n",
    "vandalism = crime_boston[crime_boston['INCIDENT_TYPE_DESCRIPTION'] == \"VANDALISM\"]\n",
    "V07RV = crime_boston[crime_boston['INCIDENT_TYPE_DESCRIPTION'] == \"07RV\"]"
   ]
  },
  {
   "cell_type": "code",
   "execution_count": 68,
   "metadata": {
    "collapsed": false
   },
   "outputs": [],
   "source": [
    "# Linear normalized plot for 6 top crimes\n",
    "x2 = plt.subplot2grid((3,3), (1,0), colspan=3, rowspan=2)"
   ]
  },
  {
   "cell_type": "code",
   "execution_count": 69,
   "metadata": {
    "collapsed": true
   },
   "outputs": [],
   "source": [
    "y = np.empty([6,12])"
   ]
  },
  {
   "cell_type": "code",
   "execution_count": null,
   "metadata": {
    "collapsed": true
   },
   "outputs": [],
   "source": [
    "y[0] = Narcotics.groupby('Month').size().get_values()\n",
    "y[1] = assault.groupby('Month').size().get_values()\n",
    "y[2] = theft.groupby('Month').size().get_values()\n",
    "y[3] = robbery.groupby('Month').size().get_values()\n",
    "y[4] = vandalism.groupby('Month').size().get_values()\n",
    "y[5] = homicide.groupby('Month').size().get_values()"
   ]
  },
  {
   "cell_type": "code",
   "execution_count": 35,
   "metadata": {
    "collapsed": true
   },
   "outputs": [],
   "source": [
    "crimes = ['NARCOTICS', 'ASSAULT', 'THEFT', 'ROBBERY']\n",
    "# 'VANDALISM', 'HOMICIDE']\n",
    "color_sequence = ['#2ca02c','#d62728', '#9467bd', '#8c564b']\n",
    "# '#1f77b4', '#ff7f0e', "
   ]
  },
  {
   "cell_type": "code",
   "execution_count": null,
   "metadata": {
    "collapsed": true
   },
   "outputs": [],
   "source": [
    "h = [None]*4\n",
    "for i in range(0,4):\n",
    "    y[i]= (y[i]-min(y[i]))/(max(y[i])-min(y[i]))  # normalization\n",
    "    h[i] = ax2.plot(monthsIdx, y[i],'o-', color=color_sequence[i], lw=2)"
   ]
  },
  {
   "cell_type": "code",
   "execution_count": 37,
   "metadata": {
    "collapsed": false
   },
   "outputs": [
    {
     "data": {
      "text/plain": [
       "<matplotlib.legend.Legend at 0x224cd1e3dd8>"
      ]
     },
     "execution_count": 37,
     "metadata": {},
     "output_type": "execute_result"
    }
   ],
   "source": [
    "x2.set_ylabel(\"Crime occurences by month, normalized\")\n",
    "\n",
    "x2.xaxis.set_ticks(np.arange(start, end+2, 1))\n",
    "x2.set_xticklabels(monthsLit)\n",
    "\n",
    "x2.legend((item[0] for item in h), \n",
    "           crimes, \n",
    "           bbox_to_anchor=(0.87, 1), loc=2, borderaxespad=0., frameon=False)"
   ]
  },
  {
   "cell_type": "code",
   "execution_count": 40,
   "metadata": {
    "collapsed": false
   },
   "outputs": [
    {
     "data": {
      "text/plain": [
       "<matplotlib.text.Text at 0x224cd1f9e80>"
      ]
     },
     "execution_count": 40,
     "metadata": {},
     "output_type": "execute_result"
    }
   ],
   "source": [
    "pylab.gcf().text(0.5, 1.00, \n",
    "            'Occurance of crimes by Month in Boston',\n",
    "            horizontalalignment='center',\n",
    "            verticalalignment='top', \n",
    "             fontsize = 10)\n"
   ]
  }
 ],
 "metadata": {
  "anaconda-cloud": {},
  "kernelspec": {
   "display_name": "Python [conda root]",
   "language": "python",
   "name": "conda-root-py"
  },
  "language_info": {
   "codemirror_mode": {
    "name": "ipython",
    "version": 3
   },
   "file_extension": ".py",
   "mimetype": "text/x-python",
   "name": "python",
   "nbconvert_exporter": "python",
   "pygments_lexer": "ipython3",
   "version": "3.5.2"
  }
 },
 "nbformat": 4,
 "nbformat_minor": 1
}
