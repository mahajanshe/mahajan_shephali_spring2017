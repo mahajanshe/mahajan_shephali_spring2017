{
 "cells": [
  {
   "cell_type": "markdown",
   "metadata": {},
   "source": [
    "# Question 4\n",
    "-- Find 'user121' and see how many posts he posted in all"
   ]
  },
  {
   "cell_type": "code",
   "execution_count": 1,
   "metadata": {
    "collapsed": false
   },
   "outputs": [
    {
     "data": {
      "text/plain": [
       "['10-19-20s_706posts.xml',\n",
       " '10-19-30s_705posts.xml',\n",
       " '10-19-40s_686posts.xml',\n",
       " '10-19-adults_706posts.xml',\n",
       " '10-24-40s_706posts.xml',\n",
       " '10-26-teens_706posts.xml',\n",
       " '11-06-adults_706posts.xml',\n",
       " '11-08-20s_705posts.xml',\n",
       " '11-08-40s_706posts.xml',\n",
       " '11-08-adults_705posts.xml',\n",
       " '11-08-teens_706posts.xml',\n",
       " '11-09-20s_706posts.xml',\n",
       " '11-09-40s_706posts.xml',\n",
       " '11-09-adults_706posts.xml',\n",
       " '11-09-teens_706posts.xml']"
      ]
     },
     "execution_count": 1,
     "metadata": {},
     "output_type": "execute_result"
    }
   ],
   "source": [
    "from nltk.corpus import nps_chat\n",
    "nps_chat.fileids()"
   ]
  },
  {
   "cell_type": "code",
   "execution_count": null,
   "metadata": {
    "collapsed": true
   },
   "outputs": [],
   "source": []
  },
  {
   "cell_type": "code",
   "execution_count": 5,
   "metadata": {
    "collapsed": false
   },
   "outputs": [
    {
     "name": "stdout",
     "output_type": "stream",
     "text": [
      "[<Element 'Post' at 0x000001F6D105E188>, <Element 'Post' at 0x000001F6D105E8B8>, ...]\n"
     ]
    }
   ],
   "source": [
    "print (nps_chat.xml_posts())"
   ]
  },
  {
   "cell_type": "code",
   "execution_count": 11,
   "metadata": {
    "collapsed": false
   },
   "outputs": [
    {
     "name": "stdout",
     "output_type": "stream",
     "text": [
      "Number of posts by user121: 132\n"
     ]
    }
   ],
   "source": [
    "count = 0\n",
    "posts = nps_chat.xml_posts()\n",
    "for p in posts:\n",
    "  if p.get('user').endswith('User121'):   \n",
    "   count+=1\n",
    "print('Number of posts by user121:', count)"
   ]
  },
  {
   "cell_type": "code",
   "execution_count": null,
   "metadata": {
    "collapsed": true
   },
   "outputs": [],
   "source": [
    "-- Find out how many unique user in each age range group. "
   ]
  },
  {
   "cell_type": "code",
   "execution_count": 65,
   "metadata": {
    "collapsed": false
   },
   "outputs": [
    {
     "name": "stdout",
     "output_type": "stream",
     "text": [
      "The number of unique users in agegroup 20 are: 305\n"
     ]
    }
   ],
   "source": [
    "user20 = []\n",
    "for agegroup in posts:\n",
    " user = agegroup.get('user')\n",
    " if user[6:9] == '20s':\n",
    "    user20.append(user) \n",
    "        \n",
    "u_20= (len(set(user20)))\n",
    "print('The number of unique users in agegroup 20 are:',u_20)"
   ]
  },
  {
   "cell_type": "code",
   "execution_count": 66,
   "metadata": {
    "collapsed": false
   },
   "outputs": [
    {
     "name": "stdout",
     "output_type": "stream",
     "text": [
      "The number of unique users in agegroup 30 are: 44\n"
     ]
    }
   ],
   "source": [
    "user30 = []\n",
    "for agegroup in posts:\n",
    " user = agegroup.get('user')\n",
    " if user[6:9] == '30s':\n",
    "    user30.append(user) \n",
    "        \n",
    "u_30= (len(set(user30)))\n",
    "print('The number of unique users in agegroup 30 are:',u_30)"
   ]
  },
  {
   "cell_type": "code",
   "execution_count": 68,
   "metadata": {
    "collapsed": false
   },
   "outputs": [
    {
     "name": "stdout",
     "output_type": "stream",
     "text": [
      "The number of unique users in agegroup 40 are: 228\n"
     ]
    }
   ],
   "source": [
    "user40 = []\n",
    "for agegroup in posts:\n",
    " user = agegroup.get('user')\n",
    " if user[6:9] == '40s':\n",
    "    user40.append(user) \n",
    "        \n",
    "u_40= (len(set(user40)))\n",
    "print('The number of unique users in agegroup 40 are:',u_40)"
   ]
  },
  {
   "cell_type": "code",
   "execution_count": 70,
   "metadata": {
    "collapsed": false
   },
   "outputs": [
    {
     "name": "stdout",
     "output_type": "stream",
     "text": [
      "The number of unique users in agegroup adults are: 357\n"
     ]
    }
   ],
   "source": [
    "user_adults = []\n",
    "for agegroup in posts:\n",
    " user = agegroup.get('user')\n",
    " if user[6:12] == 'adults':\n",
    "    user_adults.append(user) \n",
    "        \n",
    "u_adults= (len(set(user_adults)))\n",
    "print('The number of unique users in agegroup adults are:',u_adults)"
   ]
  },
  {
   "cell_type": "code",
   "execution_count": 71,
   "metadata": {
    "collapsed": false
   },
   "outputs": [
    {
     "name": "stdout",
     "output_type": "stream",
     "text": [
      "The number of unique users in agegroup teens are: 443\n"
     ]
    }
   ],
   "source": [
    "user_teens = []\n",
    "for agegroup in posts:\n",
    " user = agegroup.get('user')\n",
    " if user[6:11] == 'teens':\n",
    "    user_teens.append(user) \n",
    "        \n",
    "u_teens= (len(set(user_teens)))\n",
    "print('The number of unique users in agegroup teens are:',u_teens)"
   ]
  }
 ],
 "metadata": {
  "kernelspec": {
   "display_name": "Python [conda root]",
   "language": "python",
   "name": "conda-root-py"
  },
  "language_info": {
   "codemirror_mode": {
    "name": "ipython",
    "version": 3
   },
   "file_extension": ".py",
   "mimetype": "text/x-python",
   "name": "python",
   "nbconvert_exporter": "python",
   "pygments_lexer": "ipython3",
   "version": "3.5.2"
  }
 },
 "nbformat": 4,
 "nbformat_minor": 1
}
